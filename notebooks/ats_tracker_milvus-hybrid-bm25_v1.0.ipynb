{
 "cells": [
  {
   "cell_type": "markdown",
   "metadata": {},
   "source": [
    "# ATS Tracker Hybrid Retrival with Milvus Lite, Dense & Sparse (BM25)"
   ]
  },
  {
   "cell_type": "code",
   "execution_count": 12,
   "metadata": {},
   "outputs": [],
   "source": [
    "import json\n",
    "import pandas as pd\n",
    "from tqdm.notebook import tqdm"
   ]
  },
  {
   "cell_type": "code",
   "execution_count": 13,
   "metadata": {},
   "outputs": [],
   "source": [
    "from pymilvus import connections, model, FieldSchema, DataType, CollectionSchema, Collection, utility, AnnSearchRequest, WeightedRanker\n",
    "\n",
    "from pymilvus.model.sparse import BM25EmbeddingFunction                     # type: ignore\n",
    "from pymilvus.model.sparse.bm25.tokenizers import build_default_analyzer    # type: ignore"
   ]
  },
  {
   "cell_type": "code",
   "execution_count": 14,
   "metadata": {},
   "outputs": [],
   "source": [
    "milvusdb_uri=\"../db/milvus/ATSTracker_BM25.db\"\n",
    "resumes_as_csv=\"../data/processed_data/resumes.csv\""
   ]
  },
  {
   "cell_type": "code",
   "execution_count": 15,
   "metadata": {},
   "outputs": [],
   "source": [
    "collection_name = \"ats_tracker_resumes_collection\""
   ]
  },
  {
   "cell_type": "markdown",
   "metadata": {},
   "source": [
    "## Read Resumes"
   ]
  },
  {
   "cell_type": "code",
   "execution_count": 18,
   "metadata": {},
   "outputs": [
    {
     "data": {
      "text/html": [
       "<div>\n",
       "<style scoped>\n",
       "    .dataframe tbody tr th:only-of-type {\n",
       "        vertical-align: middle;\n",
       "    }\n",
       "\n",
       "    .dataframe tbody tr th {\n",
       "        vertical-align: top;\n",
       "    }\n",
       "\n",
       "    .dataframe thead th {\n",
       "        text-align: right;\n",
       "    }\n",
       "</style>\n",
       "<table border=\"1\" class=\"dataframe\">\n",
       "  <thead>\n",
       "    <tr style=\"text-align: right;\">\n",
       "      <th></th>\n",
       "      <th>resume_id</th>\n",
       "      <th>resume_domain</th>\n",
       "      <th>resume_uri</th>\n",
       "      <th>resume</th>\n",
       "    </tr>\n",
       "  </thead>\n",
       "  <tbody>\n",
       "    <tr>\n",
       "      <th>0</th>\n",
       "      <td>10554236</td>\n",
       "      <td>ACCOUNTANT</td>\n",
       "      <td>../data/master_data/resumes/v1.0/ACCOUNTANT/10...</td>\n",
       "      <td>\\nACCOUNTANT\\nSummary\\nFinancial Accountant sp...</td>\n",
       "    </tr>\n",
       "    <tr>\n",
       "      <th>1</th>\n",
       "      <td>10674770</td>\n",
       "      <td>ACCOUNTANT</td>\n",
       "      <td>../data/master_data/resumes/v1.0/ACCOUNTANT/10...</td>\n",
       "      <td>\\nSTAFF ACCOUNTANT\\nSummary\\nHighly analytical...</td>\n",
       "    </tr>\n",
       "    <tr>\n",
       "      <th>2</th>\n",
       "      <td>11163645</td>\n",
       "      <td>ACCOUNTANT</td>\n",
       "      <td>../data/master_data/resumes/v1.0/ACCOUNTANT/11...</td>\n",
       "      <td>\\nACCOUNTANT\\nProfessional Summary\\nTo obtain ...</td>\n",
       "    </tr>\n",
       "    <tr>\n",
       "      <th>3</th>\n",
       "      <td>11759079</td>\n",
       "      <td>ACCOUNTANT</td>\n",
       "      <td>../data/master_data/resumes/v1.0/ACCOUNTANT/11...</td>\n",
       "      <td>\\nSENIOR ACCOUNTANT\\nExperience\\nCompany Name\\...</td>\n",
       "    </tr>\n",
       "    <tr>\n",
       "      <th>4</th>\n",
       "      <td>12065211</td>\n",
       "      <td>ACCOUNTANT</td>\n",
       "      <td>../data/master_data/resumes/v1.0/ACCOUNTANT/12...</td>\n",
       "      <td>\\nSENIOR ACCOUNTANT\\nProfessional Summary\\nSen...</td>\n",
       "    </tr>\n",
       "  </tbody>\n",
       "</table>\n",
       "</div>"
      ],
      "text/plain": [
       "   resume_id resume_domain                                         resume_uri  \\\n",
       "0   10554236    ACCOUNTANT  ../data/master_data/resumes/v1.0/ACCOUNTANT/10...   \n",
       "1   10674770    ACCOUNTANT  ../data/master_data/resumes/v1.0/ACCOUNTANT/10...   \n",
       "2   11163645    ACCOUNTANT  ../data/master_data/resumes/v1.0/ACCOUNTANT/11...   \n",
       "3   11759079    ACCOUNTANT  ../data/master_data/resumes/v1.0/ACCOUNTANT/11...   \n",
       "4   12065211    ACCOUNTANT  ../data/master_data/resumes/v1.0/ACCOUNTANT/12...   \n",
       "\n",
       "                                              resume  \n",
       "0  \\nACCOUNTANT\\nSummary\\nFinancial Accountant sp...  \n",
       "1  \\nSTAFF ACCOUNTANT\\nSummary\\nHighly analytical...  \n",
       "2  \\nACCOUNTANT\\nProfessional Summary\\nTo obtain ...  \n",
       "3  \\nSENIOR ACCOUNTANT\\nExperience\\nCompany Name\\...  \n",
       "4  \\nSENIOR ACCOUNTANT\\nProfessional Summary\\nSen...  "
      ]
     },
     "execution_count": 18,
     "metadata": {},
     "output_type": "execute_result"
    }
   ],
   "source": [
    "df_resumes=pd.read_csv(resumes_as_csv)\n",
    "df_resumes.head()"
   ]
  },
  {
   "cell_type": "markdown",
   "metadata": {},
   "source": [
    "## Create BM25 Sparse Embeddings"
   ]
  },
  {
   "cell_type": "code",
   "execution_count": 16,
   "metadata": {},
   "outputs": [],
   "source": [
    "# there are some built-in analyzers for several languages, now we use 'en' for English.\n",
    "analyzer=build_default_analyzer(language=\"en\")"
   ]
  },
  {
   "cell_type": "code",
   "execution_count": 19,
   "metadata": {},
   "outputs": [
    {
     "name": "stdout",
     "output_type": "stream",
     "text": [
      "tokens: ['account', 'summari', 'financi', 'account', 'special', 'financi', 'plan', 'report', 'analysi', 'within', 'depart', 'defens', 'highlight', 'account', 'reconcili', 'results-ori', 'financi', 'report', 'critic', 'think', 'account', 'oper', 'profession', 'analysi', 'financi', 'system', 'erp', 'enterpris', 'resourc', 'plan', 'softwar', 'excel', 'facilit', 'accomplish', 'serv', 'tiger', 'team', 'identifi', 'resolv', 'general', 'ledger', 'post', 'deam', 'total', '360b', 'account', 'adjust', 'allow', 'first', 'success', 'fiscal', 'year-end', 'close', '2012', 'collabor', 'dfas', 'europ', 'develop', 'autom', 'tool', 'identifi', 'duplic', 'oblig', 'tool', 'allow', 'hq', 'usaf', 'deoblig', '5m', 'duplic', 'oblig', 'experi', 'compani', 'name', 'juli', '2011', 'novemb', '2012', 'account', 'citi', 'state', 'enterpris', 'resourc', 'plan', 'offic', 'ero', 'posit', 'account', 'assign', 'defens', 'enterpris', 'account', 'manag', 'system', 'deam', 'ero', 'respons', 'identifi', 'resolv', 'issu', 'affect', 'deam', 'general', 'ledger', 'work', 'teammat', 'procur', 'pay', 'order', 'cash', 'budget', 'report', 'area', 'resolv', 'daili', 'challeng', 'encount', 'deploy', 'deam', 'addit', 'custom', 'system', 'chang', 'request', 'promot', 'product', 'support', 'test', 'script', 'patch', 'system', 'chang', 'request', 'ensur', 'anomali', 'identifi', 'deam', 'function', 'manag', 'offic', 'action', 'deam', 'program', 'manag', 'offic', 'and/or', 'system', 'integr', 'addit', 'serv', 'tiger', 'team', 'design', 'identifi', 'resolv', 'general', 'ledger', 'post', 'differ', 'support', 'develop', '360b', 'account', 'adjust', 'allow', 'first', 'success', 'fiscal', 'year-end', 'close', '2012', 'action', 'also', 'allow', 'reconcili', 'closur', 'fiscal', 'year', '2010', '2011', 'account', 'adjust', 'ensur', 'deam', 'fiscal', 'year-end', 'requir', 'complet', 'action', 'recogn', 'critic', 'success', 'review', 'report', 'issu', 'air', 'forc', 'oper', 'test', 'evalu', 'center', 'afotec', 'result', 'air', 'forc', 'receiv', 'author', 'continu', 'deploy', 'deam', 'compani', 'name', 'april', '2010', 'june', '2011', 'resourc', 'advisor', 'citi', 'state', 'posit', 'resourc', 'advisor', '1st', 'air', 'communic', 'oper', 'squadron', '1aco', 'respons', 'provid', 'financi', 'advic', 'decis', 'support', 'command', 'respons', 'coordin', '4.6m', 'budget', 'four', 'fund', 'sourc', 'coordin', 'usaf', 'director', 'intellig', 'usafe/a2', 'usaf', 'director', 'air', 'space', 'oper', 'usafe/a3', 'usaf', 'director', 'communic', 'usafe/a6', '435th', 'air', 'ground', 'oper', 'wing', 'ensur', '1aco', 'meet', 'mission', 'requir', 'consist', 'manag', 'three', 'separ', 'timelin', 'provid', 'budget/unfund', 'requir', 'provid', 'document', 'various', 'report', 'requir', 'format', 'organ', 'discuss', 'outcom', 'group', 'director', 'budget', 'meet', 'provid', 'feedback', 'day', 'flight', 'chief', 'cc', 'issu', 'affect', '1aco', 'direct', 'monitor', 'defens', 'travel', 'system', 'dts', 'daili', 'identifi', 'order', 'author', 'need', 'approv', 'provid', 'notif', 'appropri', 'review', 'offici', 'approv', 'util', 'dts', 'general', 'account', 'financ', 'system', 'review', 'status', 'report', 'identifi', 'anomali', 'oblig', 'identifi', 'order', 'requir', 'correct', 'prior', 'payment', 'provid', 'govern', 'purchas', 'card', 'gpc', 'status', 'report', 'day', 'request', 'addit', 'communic', 'appropri', 'cardhold', 'chang', 'requir', 'support', 'program', 'identifi', 'cardhold', 'train', 'requir', 'monitor', 'requir', 'ensur', 'requir', 'train', 'complet', 'support', 'mission', 'critic', 'program', 'develop', 'guidanc', 'gpc', 'cardhold', 'procedur', 'request', 'train', 'squadron', 'addit', 'provid', 'answer', 'cardhold', 'question', 'uniqu', 'non-standard', 'issues/concern', 'assum', 'role', 'bill', 'offici', 'final', 'rate', 'period', 'complet', 'self', 'inspect', 'program', 'manag', 'control', 'program', 'zero', 'find', 'year', 'audit', '700th', 'con', 'receiv', 'zero', 'find', 'compani', 'name', 'juli', '2008', 'april', '2010', 'staff', 'account', 'citi', 'state', 'posit', 'staff', 'account', 'hq', 'usaf', 'respons', 'provid', 'account', 'financi', 'oversight', 'advic', 'custom', 'throughout', 'command', 'support', 'usaf', 'comptrol', 'respons', 'perform', 'ongo', 'analysi', 'financi', 'program', 'identifi', 'negat', 'trend', 'weak', 'ensur', 'specif', 'weak', 'correct', 'determin', 'whether', 'system', 'repeat', 'issu', 'identifi', 'adequ', 'address', 'requir', 'appli', 'comprehens', 'knowledg', 'analysis/report', 'requir', 'data', 'produc', 'resolv', 'issu', 'collabor', 'dfas', 'europ', 'develop', 'autom', 'tool', 'identifi', 'duplic', 'oblig', 'compar', 'record', 'account', 'system', 'contract', 'system', 'provid', 'notif', 'fund', 'manag', 'review', 'resolut', 'tool', 'elimin', 'hour', 'manual', 'research', 'result', 'allow', 'hq', 'usaf', 'deoblig', '5m', 'duplic', 'oblig', 'respons', 'establish', 'various', 'perform', 'metric', 'ensur', 'effect', 'effici', 'use', 'usaf', 'financi', 'resourc', 'support', 'usafe/fma', 'financi', 'metric', 'program', 'collabor', 'dfas', 'limeston', 'develop', 'autom', 'tool', 'provid', 'senior', 'leader', 'visibl', 'usaf', 'unit', 'complianc', 'establish', 'rule', 'regul', 'relat', 'gpc', 'tool', 'provid', 'manag', 'report', 'use', 'popul', 'month', 'metric', 'chart', 'brief', 'usafe/fma', 'tool', 'provid', 'capabl', 'usafe/fma', 'collabor', 'usaf', 'contract', 'develop/deploy', 'joint', 'guidanc', 'support', 'establish', 'air', 'forc', 'instruct', 'mandat', 'card', 'suspens', 'card', 'holder', 'complianc', 'requir', 'reserv', 'fund', 'entitl', 'system', 'support', 'gpc', 'identifi', 'resolv', 'problem', 'five', 'gpc', 'account', 'reject', 'autom', 'interfac', 'process', 'month', 'research', 'reveal', 'account', 'reject', 'invalid', 'pay', 'station', 'requir', 'manual', 'intervent', 'wing', 'dfas', 'personnel', 'creat', 'rework', 'delay', 'payment', 'invoic', 'partner', 'dfas', 'denver', 'correct', 'record', 'access', 'on-lin', 'account', 'elimin', 'error', 'condit', 'identifi', 'method', 'deliv', 'one-on-on', 'train', 'support', 'usaf', 'deploy', 'open', 'document', 'analysi', 'oda', 'tool', 'fmsuit', 'util', 'defens', 'connect', 'onlin', 'provid', 'train', 'remot', 'virtual', 'elimin', 'need', 'expend', 'fund', 'temporari', 'duti', 'tdi', 'travel', 'result', 'train', 'produc', 'result', 'went', 'well', 'expect', 'note', 'oda', 'program', 'manag', 'offic', 'compani', 'name', 'januari', '2007', 'juli', '2009', 'chief', 'report', 'branch', 'account', 'mainten', 'control', 'citi', 'state', 'posit', 'chief', 'report', 'branch', 'account', 'mainten', 'control', 'c', 'respons', 'ensur', 'develop', 'standard', 'various', 'manageri', 'system', 'report', 'respons', 'complet', 'accuraci', 'week', 'month', 'quarter', 'semi-annu', 'annual', 'report', 'branch', 'monitor', 'error', 'general', 'account', 'financ', 'system', 'gafs/bq', 'ensur', 'correct', 'action', 'accomplish', 'also', 'ensur', 'fund', 'balanc', 'reconcil', 'report', 'verifi', 'prior', 'releas', 'base', 'activ', 'higher', 'headquart', 'limeston', 'reorgan', 'high', 'perform', 'organ', 'hpo', 'januari', '2007', 'time', 'reassign', 'c', 'director', 'previous', 'exist', 'challeng', 'time', 'staff', 'branch', 'implement', 'aggress', 'train', 'schedul', 'ensur', 'continu', 'financi', 'report', 'maintain', 'transit', 'hpo', 'continu', 'defin', 'mission', 'function', 'c', 'entir', 'network', 'particip', 'biweek', 'confer', 'call', 'standard', 'complianc', 'effort', 'defin', 'mission', 'function', 'c', 'work', 'manag', 'determin', 'ftes', 'need', 'branch', 'respons', 'develop', 'meaning', 'perform', 'standard', 'employe', 'sinc', 'branch', 'function', 'previous', 'exist', 'limeston', 'poc', 'initi', 'elimin', 'suspens', 'account', 'throughout', 'agenc', 'identifi', 'suspens', 'account', 'initi', 'target', 'formul', 'strategi', 'elimin', 'account', 'request', 'waiver', 'particip', 'plan', 'modifi', 'process', 'use', 'suspens', 'account', 'interfund', 'suspens', 'account', 'action', 'provid', 'initi', 'progress', 'toward', 'meet', 'depart', 'treasuri', \"'s\", 'mandat', 'discontinu', 'suspens', 'account', 'februari', '2009', 'work', 'staff', 'reduc', 'reconcili', '6.9', 'million', 'februari', '2007', '1.1', 'million', 'august', 'accomplish', 'despit', 'loss', 'experienc', 'personnel', 'realign', 'resourc', 'support', 'critic', 'initi', 'account', 'payabl', 'orchestr', 'transit', 'report', 'requir', 'transport', 'financi', 'manag', 'system', 'tfms', 'workload', 'dfas', 'omaha', 'limeston', 'transit', 'limeston', 'encourag', 'staff', 'respons', 'report', 'streamlin', 'process', 'staff', 'autom', 'complet', 'manual', 'time', 'consum', 'process', 'thus', 'elimin', 'potenti', 'key', 'stroke', 'error', 'manual', 'valid', 'numer', 'spreadsheet', 'list', 'contributor', 'feder', 'manag', 'financi', 'integr', 'act', 'fmfia', 'complianc', 'review', 'establish', 'assess', 'unit', 'identifi', 'inconsist', 'inform', 'provid', 'staff', 'foreign', 'currenc', 'fluctuat', 'adjust', 'persist', 'get', 'higher', 'level', 'review', 'regulatori', 'polici', 'guidanc', 'report', 'foreign', 'currenc', 'fluctuat', 'consist', 'accur', 'compani', 'name', 'februari', '2000', 'januari', '2007', 'chief', 'account', 'payabl', 'branch', 'citi', 'state', 'chief', 'account', 'payabl', 'respons', 'overal', 'manag', 'branch', 'consist', '120', 'employe', 'four', 'first', 'line', 'supervisor', 'respons', 'establish', 'prioriti', 'schedul', 'work', 'assign', 'ensur', 'chang', 'workload', 'account', 'minim', 'impact', 'normal', 'offic', 'oper', 'consist', 'review', 'area', 'made', 'necessari', 'personnel', 'move', 'base', 'shift', 'prioriti', 'extrem', 'import', 'dfas', 'denver', 'direct', 'databas', 'consolid', 'assumpt', 'air', 'nation', 'guard', 'workload', 'workload', 'increas', 'rapid', 'staf', 'increas', 'gradual', 'dictat', 'frequent', 'prioriti', 'chang', 'personnel', 'move', 'also', 'work', 'close', 'major', 'command', 'support', 'dfas', 'limeston', 'strengthen', 'partnership', 'workload', 'spike', 'negat', 'impact', 'custom', 'decemb', '2004', 'overag', 'invoic', 'percentag', 'near', '25', 'backlog', 'vendor', 'pay', 'document', 'exceed', '30,000', 'work', 'dfas', 'command', 'client', 'execut', 'major', 'command', 'comptrol', 'instrument', 'form', 'strategi', 'includ', 'solicit', 'air', 'forc', 'personnel', 'assist', 'document', 'process', 'identif', '``', 'must', 'pay', \"''\", 'bill', 'format', 'special', 'action', 'respons', 'team', 'dedic', 'respond', 'custom', \"'s\", 'urgent', 'requir', 'result', 'effort', 'three', 'month', 'period', 'abl', 'reduc', 'overag', 'invoic', 'percentag', '19', 'backlog', 'document', 'document', '20', 'day', 'old', 'therebi', 'minim', 'advers', 'impact', 'custom', 'fund', 'respons', 'provid', 'personnel', 'feedback', 'session', 'quarter', 'prepar', 'supervisori', 'apprais', 'employe', 'perform', 'potenti', 'advanc', 'partner', 'manag', 'staff', 'employe', 'instrument', 'establish', 'employe', 'perform', 'plan', 'link', 'employe', 'perform', 'establish', 'dfas', 'strategi', 'balanc', 'scorecard', 'goal', 'posit', 'supervisori', 'account', 'respons', 'perform', 'ongo', 'analysi', 'vendor', 'pay', 'workflow', 'product', 'identifi', 'negat', 'trend', 'weak', 'ensur', 'specif', 'weak', 'correct', 'determin', 'whether', 'system', 'repeat', 'issu', 'identifi', 'adequ', 'address', 'requir', 'appli', 'comprehens', 'knowledg', 'analysis/report', 'requir', 'work', 'process', 'vendor', 'pay', 'system', 'structur', 'data', 'produc', 'resolv', 'issu', 'util', 'expertis', 'loui', 'ii', 'data', 'retriev', 'softwar', 'produc', 'ad-hoc', 'data', 'queri', 'in-hous', 'extern', 'use', 'custom', 'retriev', 'design', 'reduc', 'man-', 'hour', 'necessari', 'perform', 'complex', 'financ', 'account', 'function', 'dfas', 'air', 'forc', 'personnel', 'respons', 'budget', 'resourc', 'necessari', 'oper', 'branch', 'capac', 'prepar', 'budget', 'execut', 'justif', 'plan', 'monitor', 'overtim', 'cost', 'control', 'suppli', 'purchas', 'ensur', 'cost', 'effici', 'oper', 'possibl', 'requir', 'respond', 'inquiri', 'various', 'sourc', 'includ', 'limit', 'vendor', 'dfas', 'manag', 'account', 'liaison', 'offic', 'resourc', 'advisor', 'dfas', 'field', 'site', 'inquiri', 'requir', 'abil', 'relay', 'technic', 'aspect', 'system', 'defici', 'custom', 'familiar', 'oper', 'particip', 'video', 'teleconfer', 'confer', 'call', 'brief', 'design', 'address', 'custom', 'dfas', 'manag', 'requir', 'call', 'upon', 'explain', 'laymen', \"'s\", 'term', 'dfas', 'polici', 'procedur', 'regard', 'delay', 'payment', 'due', 'various', 'reason', 'respond', 'various', 'audit', 'report', 'studi', 'ensur', 'senior', 'manag', 'audit', 'personnel', 'understand', 'particular', 'situat', 'within', 'vendor', 'pay', 'busi', 'process', 'result', 'find', 'compani', 'name', 'februari', '1999', 'februari', '2000', 'chief', 'recon', 'report', 'branch', 'citi', 'state', 'posit', 'chief', 'vendor', 'pay', 'report', 'recon', 'branch', 'exercis', 'supervis', 'either', 'direct', 'indirect', '22', 'employe', 'primarili', '``', '525', \"''\", 'seri', 'grade', 'rang', 'gs-5', 'gs-8', 'respons', 'also', 'includ', 'supervis', 'german', 'local', 'nation', 'worker', 'assign', 'duti', 'section', 'respons', 'plan', 'direct', 'supervis', 'activ', 'work', 'forc', 'review', 'interpret', 'process', 'reconcili', 'vendor', 'pay', 'account', 'data', 'product', 'time', 'accur', 'financi', 'statement', 'report', 'requir', 'particip', 'develop', 'branch', 'polici', 'continu', 'review', 'evalu', 'organiz', 'oper', 'work', 'distribut', 'procedur', 'coordin', 'activ', 'assign', 'function', 'organ', 'obtain', 'effect', 'correl', 'financi', 'data', 'direct', 'provid', 'technic', 'guidanc', 'subordin', 'assign', 'area', 'assur', 'timeli', 'accuraci', 'assign', 'workload', 'plan', 'organ', 'direct', 'coordin', 'review', 'work', 'subordin', \"'s\", 'section', 'ensur', 'mission', 'function', 'divis', 'carri', 'manag', 'realign', 'resourc', 'conduct', 'program', 'analys', 'made', 'decis', 'accord', 'unit', 'cost', 'principl', 'output', 'target', 'chang', 'budgetari', 'constraint', 'particip', 'long', 'rang', 'plan', 'goal', 'set', 'evalu', 'subordin', 'staff', 'interpret', 'clarifi', 'branch', 'polici', 'resolv', 'oper', 'problem', 'ensur', 'effici', 'util', 'profession', 'develop', 'staff', 'expect', 'provid', 'reason', 'assur', 'oper', 'conduct', 'complianc', 'applic', 'law', 'fund', 'properti', 'asset', 'safeguard', 'wast', 'loss', 'unauthor', 'use', 'misappropri', 'ensur', 'continu', 'affirm', 'applic', 'support', 'dod', 'dfas', 'polici', 'concern', 'equal', 'opportun', 'affirm', 'action', 'program', 'ensur', 'personnel', 'manag', 'within', 'organiz', 'entiti', 'supervis', 'accomplish', 'without', 'regard', 'race', 'color', 'religion', 'sex', 'age', 'nation', 'origin', 'handicap', 'kept', 'abreast', 'develop', 'polici', 'issuanc', 'similar', 'materi', 'equal', 'opportun', 'field', 'fulli', 'support', 'dod', 'dfas', 'equal', 'opportun', 'program', 'respons', 'account', 'safeti', 'health', 'subordin', 'ensur', 'personnel', 'train', 'work', 'safe', 'enforc', 'safeti', 'health', 'rule', 'correct', 'unsaf', 'unhealthi', 'act', 'unsaf', 'unhealthi', 'mechan', 'physic', 'condit', 'investig', 'mishap', 'tool', 'action', 'necessari', 'ensur', 'safeti', 'health', 'employe', 'compani', 'name', 'june', '1995', 'februari', '1999', 'chief', 'account', 'payabl', 'branch', 'citi', 'state', 'respons', 'establish', 'prioriti', 'schedul', 'work', 'assign', 'ensur', 'chang', 'workload', 'account', 'minim', 'impact', 'normal', 'offic', 'oper', 'import', 'dfas', 'denver', 'direct', 'workload', 'realigh', 'field', 'site', 'servic', 'custom', 'major', 'command', 'workload', 'increas', 'dictat', 'frequent', 'prioriti', 'chang', 'personnel', 'move', 'also', 'work', 'close', 'major', 'command', 'support', 'dfas', 'limeston', 'strengthen', 'partnership', 'workload', 'spike', 'negat', 'impact', 'custom', 'respons', 'provid', 'personnel', 'feedback', 'session', 'quarter', 'preparedsupervisori', 'apprais', 'employe', 'perform', 'potenti', 'advanc', 'supervisori', 'account', 'respons', 'perform', 'ongo', 'analysi', 'vendor', 'pay', 'workflow', 'product', 'identifi', 'negat', 'trend', 'weak', 'ensur', 'specif', 'weak', 'correct', 'determin', 'whether', 'system', 'repeat', 'issu', 'identifi', 'adequ', 'address', 'requir', 'appli', 'comprehens', 'knowledg', 'analysis/report', 'requir', 'work', 'process', 'vendor', 'pay', 'system', 'structur', 'data', 'produc', 'resolv', 'issu', 'util', 'knowledg', 'loui', 'ii', 'data', 'retriev', 'softwar', 'produc', 'ad-hoc', 'data', 'queri', 'in-hous', 'extern', 'use', 'custom', 'retriev', 'design', 'reduc', 'man-', 'hour', 'necessari', 'perform', 'complex', 'financ', 'account', 'function', 'dfas', 'air', 'forc', 'personnel', 'respons', 'budget', 'resourc', 'necessari', 'oper', 'branch', 'capac', 'prepar', 'budget', 'execut', 'justif', 'plan', 'monitor', 'overtim', 'cost', 'control', 'suppli', 'purchas', 'ensur', 'cost', 'effici', 'oper', 'possibl', 'requir', 'respond', 'inquiri', 'various', 'sourc', 'includ', 'limit', 'vendor', 'dfas', 'manag', 'account', 'liaison', 'offic', 'resourc', 'advisor', 'dfas', 'field', 'site', 'inquiri', 'requir', 'abil', 'relay', 'technic', 'aspect', 'system', 'defici', 'custom', 'familiar', 'oper', 'particip', 'video', 'teleconfer', 'confer', 'call', 'brief', 'design', 'address', 'custom', 'dfas', 'manag', 'requir', 'often', 'call', 'upon', 'explain', 'laymen', \"'s\", 'term', 'dfas', 'polici', 'procedur', 'regard', 'delay', 'payment', 'due', 'various', 'reason', 'requir', 'respond', 'various', 'audit', 'report', 'studi', 'ensur', 'senior', 'manag', 'audit', 'personnel', 'understand', 'particular', 'situat', 'within', 'vendor', 'pay', 'busi', 'process', 'result', 'find', 'hand', 'select', 'field', 'site', 'director', 'vendor', 'pay', 'site', 'manag', 'repres', 'dfas', 'limeston', 'team', 'compris', 'repres', 'dfas', 'denver', 'field', 'site', 'provid', 'train', 'air', 'forc', 'base', 'level', 'resourc', 'advisor', 'five', 'week', 'period', 'provid', '``', 'boot', 'camp', \"''\", 'train', '400', 'base', 'level', 'personnel', 'ensur', 'resourc', 'advisor', 'familiar', 'dfas', 'structur', 'mission', 'requir', 'relat', 'fund', 'manag', 'compani', 'name', 'june', '1994', 'june', '1995', 'account', 'network', 'assist', 'team', 'citi', 'state', 'member', 'network', 'assist', 'team', 'requir', 'extens', 'work', 'knowledg', 'dod', 'account', 'system', 'theori', 'polici', 'procedur', 'consist', 'call', 'upon', 'develop', 'implement', 'procedur', 'consist', 'dod', 'regul', 'coordin', 'dfas', 'denver', 'omaha', 'field', 'site', 'consolid', 'first', 'geograph', 'separ', 'defens', 'account', 'offic', 'dfas', 'posit', 'member', 'network', 'assist', 'team', 'requir', 'upon', 'arriv', 'base', 'level', 'defens', 'account', 'offic', 'dao', 'provid', 'in-brief', 'brief', 'identifi', 'team', 'member', 'purpos', 'visit', 'goal', 'respons', 'upon', 'complet', 'assign', 'provid', 'written', 'oral', 'out-brief', 'outlin', 'team', 'accomplish', 'visit', 'provid', 'recommend', 'preclud', 'recur', 'problem', 'prepar', 'organ', 'consolid', 'compani', 'name', 'june', '1993', 'june', '1994', 'supervisor', 'account', 'control', 'branch', 'citi', 'state', 'directed/supervis', 'accomplish', 'financi', 'report', 'statement', 'directed/supervis', 'accomplish', 'financi', 'report', 'statement', 'respons', 'complet', 'accuraci', 'week', 'month', 'quarter', 'semi-annu', 'annual', 'report', 'monitor', 'error', 'general', 'account', 'financ', 'system', 'gafs/bq', 'ensur', 'correct', 'action', 'accomplish', 'also', 'ensur', 'fund', 'balanc', 'reconcil', 'appropri', 'audit', 'list', 'verifi', 'report', 'prior', 'releas', 'base', 'activ', 'higher', 'headquart', 'furnish', 'account', 'data', 'base', 'organ', 'often', 'interpret', 'analyz', 'data', 'help', 'fund', 'manag', 'resolv', 'problem', 'manag', 'program', 'effect', 'attend', 'major', 'command', 'majcom', 'headquart', 'level', 'workshop', 'particip', 'contribut', 'account', 'polici', 'system', 'chang', 'provid', 'profession', 'assist', 'data', 'autom', 'relev', 'process', 'account', 'financ', 'data', 'interpret', 'defici', 'softwar', 'base', 'output', 'product', 'system', 'relat', 'problem', 'util', 'work', 'knowledg', 'commerci', 'govern', 'account', 'system', 'principl', 'knowledg', 'process', 'center', 'pcs', 'review', 'verifi', 'analyz', 'evalu', 'account', 'financ', 'oper', 'serv', 'chief', 'account', 'control', 'ensur', 'area', 'concern', 'address', 'concentr', 'problem', 'area', 'relat', 'databas', 'analyz', 'comput', 'output', 'product', 'determin', 'process', 'defici', 'includ', 'limit', 'open', 'document', 'list', 'odl', 'oper', 'budget', 'ledger', 'obl', 'allot', 'ledger', 'al', 'account', 'financ', 'workload', 'inform', 'manag', 'system', 'f', 'wim', 'extract', 'list', 'provid', 'technic', 'assist', 'relat', 'polici', 'procedur', 'chang', 'requir', 'result', 'impend', 'base', 'closur', 'analyzed/develop', 'recommend', 'improv', 'train', 'procedur', 'enabl', 'better', 'use', 'system', 'procedur', 'ensur', 'govern', 'direct', 'follow', 'evalu', 'accuraci', 'account', 'record', 'prior', 'fiscal', 'year', 'closeout', 'ensur', 'account', 'financ', 'offic', 'could', 'certifi', 'accuraci', 'requir', 'regul', 'examin', 'account', 'transact', 'document', 'ensur', 'conform', 'establish', 'account', 'polici', 'principl', 'coordin', 'direct', 'fiscal', 'year', 'end', 'convers', 'gaf', 'integr', 'account', 'payabl', 'system', 'iap', 'educ', 'northern', 'main', 'communiti', 'colleg', '1994', 'associ', 'account', 'citi', 'state', 'usa', 'emphasi', 'busi', '1994', 'associ', 'account', 'citi', 'state', 'usa', 'gpa', 'gpa', '3.41', 'account', 'gpa', '3.41', '174', 'hour', 'quarter', 'attend', 'husson', 'colleg', 'major', 'account', '78', 'semest', 'hour', 'toward', 'bachelor', 'degre', 'profession', 'militari', 'comptrol', 'school', '6wk', '4-98', 'manageri', 'account', '09-98', 'interested-bas', 'bargain', 'train', 'manag', '24hrs', '09-01', 'audit', 'method', 'concept', '09-98', 'organiz', 'leadership', '32hrs', '07-03', 'manag', 'develop', 'ii', '32hrs', '07-03', 'certif', 'certifi', 'defens', 'financi', 'manag', 'cdfm', 'may', '2005', 'interest', 'american', 'societi', 'militari', 'comptrol', 'addit', 'inform', 'skill', 'account', 'general', 'account', 'account', 'payabl', 'program', 'manag']\n"
     ]
    }
   ],
   "source": [
    "# analyzer can tokenize the text into tokens\n",
    "tokens=analyzer(df_resumes[\"resume\"][0])\n",
    "print(\"tokens:\", tokens)"
   ]
  },
  {
   "cell_type": "code",
   "execution_count": 20,
   "metadata": {},
   "outputs": [],
   "source": [
    "# use the analyzer to instantiate the BM25EmbeddingFunction\n",
    "bm25_ef = BM25EmbeddingFunction(analyzer)\n",
    "\n",
    "# fit the model on the corpus to get the statstics of the corpus\n",
    "corpus=df_resumes[\"resume\"].tolist()\n",
    "bm25_ef.fit(corpus)"
   ]
  },
  {
   "cell_type": "code",
   "execution_count": 21,
   "metadata": {},
   "outputs": [],
   "source": [
    "def get_bm25_embedding(text):\n",
    "    bm25_csr_matrix=bm25_ef.encode_documents([text])\n",
    "    bm25_dict_embedding={idx: val for idx, val in zip(bm25_csr_matrix.indices, bm25_csr_matrix.data)}\n",
    "    return bm25_dict_embedding"
   ]
  },
  {
   "cell_type": "code",
   "execution_count": 22,
   "metadata": {},
   "outputs": [
    {
     "name": "stdout",
     "output_type": "stream",
     "text": [
      "BM25 embedding: {np.int64(0): np.float32(2.342536), np.int64(1): np.float32(0.45423943), np.int64(2): np.float32(1.9764036), np.int64(3): np.float32(0.7687925), np.int64(4): np.float32(1.7236974), np.int64(5): np.float32(2.1308887), np.int64(6): np.float32(1.4280674), np.int64(7): np.float32(1.1759579), np.int64(8): np.float32(0.7687925), np.int64(9): np.float32(1.5212489), np.int64(10): np.float32(0.45423943), np.int64(11): np.float32(1.1759579), np.int64(12): np.float32(0.45423943), np.int64(13): np.float32(1.1759579), np.int64(14): np.float32(0.45423943), np.int64(15): np.float32(1.9996707), np.int64(16): np.float32(1.1759579), np.int64(17): np.float32(2.1536007), np.int64(18): np.float32(0.45423943), np.int64(19): np.float32(0.9995062), np.int64(20): np.float32(1.8567498), np.int64(21): np.float32(1.1759579), np.int64(22): np.float32(0.45423943), np.int64(23): np.float32(0.45423943), np.int64(24): np.float32(1.5995258), np.int64(25): np.float32(0.9995062), np.int64(26): np.float32(0.7687925), np.int64(27): np.float32(1.6662093), np.int64(28): np.float32(2.0585244), np.int64(29): np.float32(1.7236974), np.int64(30): np.float32(1.5212489), np.int64(31): np.float32(1.3152765), np.int64(32): np.float32(0.7687925), np.int64(33): np.float32(1.5995258), np.int64(34): np.float32(0.45423943), np.int64(35): np.float32(0.7687925), np.int64(36): np.float32(1.1759579), np.int64(37): np.float32(1.3152765), np.int64(38): np.float32(1.1759579), np.int64(39): np.float32(0.9995062), np.int64(40): np.float32(1.4280674), np.int64(41): np.float32(0.9995062), np.int64(42): np.float32(1.1759579), np.int64(43): np.float32(0.9995062), np.int64(44): np.float32(1.1759579), np.int64(45): np.float32(2.1639397), np.int64(46): np.float32(0.7687925), np.int64(47): np.float32(1.8177736), np.int64(48): np.float32(1.4280674), np.int64(49): np.float32(1.6662093), np.int64(50): np.float32(1.1759579), np.int64(51): np.float32(1.3152765), np.int64(52): np.float32(0.9995062), np.int64(53): np.float32(1.7737695), np.int64(54): np.float32(0.7687925), np.int64(55): np.float32(0.7687925), np.int64(56): np.float32(0.45423943), np.int64(57): np.float32(1.6662093), np.int64(58): np.float32(1.6662093), np.int64(59): np.float32(0.9995062), np.int64(60): np.float32(0.9995062), np.int64(61): np.float32(0.45423943), np.int64(62): np.float32(1.7737695), np.int64(63): np.float32(1.7737695), np.int64(64): np.float32(1.7737695), np.int64(65): np.float32(0.7687925), np.int64(66): np.float32(1.5212489), np.int64(67): np.float32(1.5995258), np.int64(68): np.float32(2.1736796), np.int64(69): np.float32(2.118378), np.int64(70): np.float32(1.6662093), np.int64(71): np.float32(0.7687925), np.int64(72): np.float32(1.9508669), np.int64(73): np.float32(0.45423943), np.int64(74): np.float32(0.45423943), np.int64(75): np.float32(1.8567498), np.int64(76): np.float32(0.9995062), np.int64(77): np.float32(0.45423943), np.int64(78): np.float32(1.5995258), np.int64(79): np.float32(1.3152765), np.int64(80): np.float32(0.7687925), np.int64(81): np.float32(0.7687925), np.int64(82): np.float32(0.45423943), np.int64(83): np.float32(0.9995062), np.int64(84): np.float32(1.3152765), np.int64(85): np.float32(1.8567498), np.int64(86): np.float32(1.7236974), np.int64(87): np.float32(1.3152765), np.int64(88): np.float32(0.45423943), np.int64(89): np.float32(1.4280674), np.int64(90): np.float32(1.9227116), np.int64(91): np.float32(0.7687925), np.int64(92): np.float32(0.45423943), np.int64(93): np.float32(0.45423943), np.int64(94): np.float32(2.1828709), np.int64(95): np.float32(0.7687925), np.int64(96): np.float32(1.5995258), np.int64(97): np.float32(1.6662093), np.int64(98): np.float32(1.8567498), np.int64(99): np.float32(0.45423943), np.int64(100): np.float32(0.9995062), np.int64(101): np.float32(1.3152765), np.int64(102): np.float32(0.45423943), np.int64(103): np.float32(1.4280674), np.int64(104): np.float32(0.7687925), np.int64(105): np.float32(1.1759579), np.int64(106): np.float32(0.9995062), np.int64(107): np.float32(2.1915584), np.int64(108): np.float32(1.5212489), np.int64(109): np.float32(0.45423943), np.int64(110): np.float32(1.7737695), np.int64(111): np.float32(1.7737695), np.int64(112): np.float32(1.5995258), np.int64(113): np.float32(1.3152765), np.int64(114): np.float32(0.7687925), np.int64(115): np.float32(0.45423943), np.int64(116): np.float32(1.5995258), np.int64(117): np.float32(0.7687925), np.int64(118): np.float32(0.7687925), np.int64(119): np.float32(1.3152765), np.int64(120): np.float32(0.7687925), np.int64(121): np.float32(1.4280674), np.int64(122): np.float32(1.4280674), np.int64(123): np.float32(0.45423943), np.int64(124): np.float32(0.9995062), np.int64(125): np.float32(0.7687925), np.int64(126): np.float32(0.9995062), np.int64(127): np.float32(2.1308887), np.int64(128): np.float32(0.7687925), np.int64(129): np.float32(0.7687925), np.int64(130): np.float32(1.5995258), np.int64(131): np.float32(1.4280674), np.int64(132): np.float32(0.45423943), np.int64(133): np.float32(0.7687925), np.int64(134): np.float32(1.7236974), np.int64(135): np.float32(0.9995062), np.int64(136): np.float32(1.4280674), np.int64(137): np.float32(0.45423943), np.int64(138): np.float32(0.45423943), np.int64(139): np.float32(0.45423943), np.int64(140): np.float32(0.45423943), np.int64(141): np.float32(0.45423943), np.int64(142): np.float32(0.45423943), np.int64(143): np.float32(0.45423943), np.int64(144): np.float32(0.7687925), np.int64(145): np.float32(0.9995062), np.int64(146): np.float32(1.4280674), np.int64(147): np.float32(1.4280674), np.int64(148): np.float32(0.7687925), np.int64(149): np.float32(0.7687925), np.int64(150): np.float32(0.45423943), np.int64(151): np.float32(0.45423943), np.int64(152): np.float32(1.5995258), np.int64(153): np.float32(1.6662093), np.int64(154): np.float32(0.7687925), np.int64(155): np.float32(1.4280674), np.int64(156): np.float32(0.45423943), np.int64(157): np.float32(0.45423943), np.int64(158): np.float32(0.45423943), np.int64(159): np.float32(0.9995062), np.int64(160): np.float32(0.9995062), np.int64(161): np.float32(0.45423943), np.int64(162): np.float32(1.6662093), np.int64(163): np.float32(0.45423943), np.int64(164): np.float32(1.6662093), np.int64(165): np.float32(1.4280674), np.int64(166): np.float32(0.7687925), np.int64(167): np.float32(0.7687925), np.int64(168): np.float32(0.9995062), np.int64(169): np.float32(0.7687925), np.int64(170): np.float32(0.7687925), np.int64(171): np.float32(0.9995062), np.int64(172): np.float32(0.7687925), np.int64(173): np.float32(1.4280674), np.int64(174): np.float32(1.6662093), np.int64(175): np.float32(0.7687925), np.int64(176): np.float32(1.5995258), np.int64(177): np.float32(1.1759579), np.int64(178): np.float32(1.1759579), np.int64(179): np.float32(0.9995062), np.int64(180): np.float32(0.9995062), np.int64(181): np.float32(0.9995062), np.int64(182): np.float32(1.3152765), np.int64(183): np.float32(1.1759579), np.int64(184): np.float32(1.8177736), np.int64(185): np.float32(1.1759579), np.int64(186): np.float32(1.6662093), np.int64(187): np.float32(0.45423943), np.int64(188): np.float32(0.45423943), np.int64(189): np.float32(0.45423943), np.int64(190): np.float32(0.45423943), np.int64(191): np.float32(0.45423943), np.int64(192): np.float32(0.45423943), np.int64(193): np.float32(0.45423943), np.int64(194): np.float32(0.7687925), np.int64(195): np.float32(0.45423943), np.int64(196): np.float32(0.45423943), np.int64(197): np.float32(0.9995062), np.int64(198): np.float32(0.45423943), np.int64(199): np.float32(0.45423943), np.int64(200): np.float32(1.5212489), np.int64(201): np.float32(0.7687925), np.int64(202): np.float32(1.1759579), np.int64(203): np.float32(1.5212489), np.int64(204): np.float32(0.45423943), np.int64(205): np.float32(0.45423943), np.int64(206): np.float32(0.45423943), np.int64(207): np.float32(1.7236974), np.int64(208): np.float32(0.45423943), np.int64(209): np.float32(0.7687925), np.int64(210): np.float32(1.1759579), np.int64(211): np.float32(1.8177736), np.int64(212): np.float32(0.9995062), np.int64(213): np.float32(1.3152765), np.int64(214): np.float32(0.9995062), np.int64(215): np.float32(1.4280674), np.int64(216): np.float32(0.9995062), np.int64(217): np.float32(1.3152765), np.int64(218): np.float32(0.9995062), np.int64(219): np.float32(0.9995062), np.int64(220): np.float32(0.9995062), np.int64(221): np.float32(1.4280674), np.int64(222): np.float32(0.9995062), np.int64(223): np.float32(0.9995062), np.int64(224): np.float32(1.5212489), np.int64(225): np.float32(0.9995062), np.int64(226): np.float32(1.8567498), np.int64(227): np.float32(1.4280674), np.int64(228): np.float32(0.45423943), np.int64(229): np.float32(0.9995062), np.int64(230): np.float32(0.7687925), np.int64(231): np.float32(0.45423943), np.int64(232): np.float32(1.4280674), np.int64(233): np.float32(1.3152765), np.int64(234): np.float32(1.1759579), np.int64(235): np.float32(0.7687925), np.int64(236): np.float32(1.6662093), np.int64(237): np.float32(0.9995062), np.int64(238): np.float32(0.9995062), np.int64(239): np.float32(1.1759579), np.int64(240): np.float32(1.5212489), np.int64(241): np.float32(0.9995062), np.int64(242): np.float32(1.5995258), np.int64(243): np.float32(0.9995062), np.int64(244): np.float32(0.45423943), np.int64(245): np.float32(0.45423943), np.int64(246): np.float32(0.9995062), np.int64(247): np.float32(1.3152765), np.int64(248): np.float32(0.7687925), np.int64(249): np.float32(0.9995062), np.int64(250): np.float32(1.3152765), np.int64(251): np.float32(0.45423943), np.int64(252): np.float32(1.3152765), np.int64(253): np.float32(0.45423943), np.int64(254): np.float32(1.1759579), np.int64(255): np.float32(0.45423943), np.int64(256): np.float32(0.45423943), np.int64(257): np.float32(0.45423943), np.int64(258): np.float32(0.45423943), np.int64(259): np.float32(0.7687925), np.int64(260): np.float32(1.4280674), np.int64(261): np.float32(0.45423943), np.int64(262): np.float32(0.45423943), np.int64(263): np.float32(0.45423943), np.int64(264): np.float32(1.4280674), np.int64(265): np.float32(0.7687925), np.int64(266): np.float32(0.7687925), np.int64(267): np.float32(0.45423943), np.int64(268): np.float32(1.8567498), np.int64(269): np.float32(0.45423943), np.int64(270): np.float32(0.45423943), np.int64(271): np.float32(0.45423943), np.int64(272): np.float32(0.45423943), np.int64(273): np.float32(1.9227116), np.int64(274): np.float32(0.45423943), np.int64(275): np.float32(0.45423943), np.int64(276): np.float32(0.9995062), np.int64(277): np.float32(0.9995062), np.int64(278): np.float32(0.7687925), np.int64(279): np.float32(1.3152765), np.int64(280): np.float32(0.45423943), np.int64(281): np.float32(0.45423943), np.int64(282): np.float32(1.1759579), np.int64(283): np.float32(0.7687925), np.int64(284): np.float32(0.7687925), np.int64(285): np.float32(0.45423943), np.int64(286): np.float32(0.45423943), np.int64(287): np.float32(0.7687925), np.int64(288): np.float32(0.7687925), np.int64(289): np.float32(0.45423943), np.int64(290): np.float32(0.45423943), np.int64(291): np.float32(0.45423943), np.int64(292): np.float32(0.45423943), np.int64(293): np.float32(0.45423943), np.int64(294): np.float32(0.45423943), np.int64(295): np.float32(0.45423943), np.int64(296): np.float32(0.7687925), np.int64(297): np.float32(0.45423943), np.int64(298): np.float32(0.45423943), np.int64(299): np.float32(0.45423943), np.int64(300): np.float32(0.7687925), np.int64(301): np.float32(0.45423943), np.int64(302): np.float32(0.9995062), np.int64(303): np.float32(1.1759579), np.int64(304): np.float32(0.7687925), np.int64(305): np.float32(1.9508669), np.int64(306): np.float32(0.7687925), np.int64(307): np.float32(1.1759579), np.int64(308): np.float32(0.9995062), np.int64(309): np.float32(0.7687925), np.int64(310): np.float32(1.3152765), np.int64(311): np.float32(0.9995062), np.int64(312): np.float32(1.3152765), np.int64(313): np.float32(0.7687925), np.int64(314): np.float32(0.7687925), np.int64(315): np.float32(0.7687925), np.int64(316): np.float32(0.9995062), np.int64(317): np.float32(0.7687925), np.int64(318): np.float32(0.9995062), np.int64(319): np.float32(0.7687925), np.int64(320): np.float32(1.6662093), np.int64(321): np.float32(1.1759579), np.int64(322): np.float32(0.9995062), np.int64(323): np.float32(0.9995062), np.int64(324): np.float32(0.45423943), np.int64(325): np.float32(0.45423943), np.int64(326): np.float32(0.7687925), np.int64(327): np.float32(1.1759579), np.int64(328): np.float32(0.45423943), np.int64(329): np.float32(0.7687925), np.int64(330): np.float32(0.7687925), np.int64(331): np.float32(0.7687925), np.int64(332): np.float32(0.45423943), np.int64(333): np.float32(0.9995062), np.int64(334): np.float32(0.45423943), np.int64(335): np.float32(0.9995062), np.int64(336): np.float32(0.7687925), np.int64(337): np.float32(0.45423943), np.int64(338): np.float32(1.1759579), np.int64(339): np.float32(1.5212489), np.int64(340): np.float32(0.45423943), np.int64(341): np.float32(0.9995062), np.int64(342): np.float32(1.4280674), np.int64(343): np.float32(0.7687925), np.int64(344): np.float32(0.45423943), np.int64(345): np.float32(0.45423943), np.int64(346): np.float32(1.6662093), np.int64(347): np.float32(0.45423943), np.int64(348): np.float32(0.45423943), np.int64(349): np.float32(1.1759579), np.int64(350): np.float32(0.45423943), np.int64(351): np.float32(0.7687925), np.int64(352): np.float32(0.45423943), np.int64(353): np.float32(0.9995062), np.int64(354): np.float32(0.45423943), np.int64(355): np.float32(0.45423943), np.int64(356): np.float32(0.45423943), np.int64(357): np.float32(0.45423943), np.int64(358): np.float32(0.7687925), np.int64(359): np.float32(0.45423943), np.int64(360): np.float32(1.3152765), np.int64(361): np.float32(0.45423943), np.int64(362): np.float32(1.4280674), np.int64(363): np.float32(1.1759579), np.int64(364): np.float32(0.45423943), np.int64(365): np.float32(0.7687925), np.int64(366): np.float32(0.45423943), np.int64(367): np.float32(0.45423943), np.int64(368): np.float32(0.45423943), np.int64(369): np.float32(0.7687925), np.int64(370): np.float32(0.45423943), np.int64(371): np.float32(0.7687925), np.int64(372): np.float32(1.4280674), np.int64(373): np.float32(0.45423943), np.int64(374): np.float32(0.45423943), np.int64(375): np.float32(0.45423943), np.int64(376): np.float32(1.7737695), np.int64(377): np.float32(0.7687925), np.int64(378): np.float32(0.45423943), np.int64(379): np.float32(0.45423943), np.int64(380): np.float32(0.45423943), np.int64(381): np.float32(0.45423943), np.int64(382): np.float32(0.9995062), np.int64(383): np.float32(0.45423943), np.int64(384): np.float32(0.45423943), np.int64(385): np.float32(0.45423943), np.int64(386): np.float32(0.45423943), np.int64(387): np.float32(0.45423943), np.int64(388): np.float32(1.1759579), np.int64(389): np.float32(0.45423943), np.int64(390): np.float32(0.45423943), np.int64(391): np.float32(0.7687925), np.int64(392): np.float32(0.45423943), np.int64(393): np.float32(0.45423943), np.int64(394): np.float32(0.45423943), np.int64(395): np.float32(0.9995062), np.int64(396): np.float32(0.7687925), np.int64(397): np.float32(0.7687925), np.int64(398): np.float32(0.7687925), np.int64(399): np.float32(0.45423943), np.int64(400): np.float32(0.45423943), np.int64(401): np.float32(1.3152765), np.int64(402): np.float32(0.45423943), np.int64(403): np.float32(1.7737695), np.int64(404): np.float32(0.7687925), np.int64(405): np.float32(0.7687925), np.int64(406): np.float32(0.45423943), np.int64(407): np.float32(0.45423943), np.int64(408): np.float32(0.45423943), np.int64(409): np.float32(0.7687925), np.int64(410): np.float32(1.3152765), np.int64(411): np.float32(0.9995062), np.int64(412): np.float32(1.3152765), np.int64(413): np.float32(0.7687925), np.int64(414): np.float32(0.7687925), np.int64(415): np.float32(1.4280674), np.int64(416): np.float32(0.9995062), np.int64(417): np.float32(0.45423943), np.int64(418): np.float32(0.45423943), np.int64(419): np.float32(0.7687925), np.int64(420): np.float32(0.7687925), np.int64(421): np.float32(0.9995062), np.int64(422): np.float32(0.45423943), np.int64(423): np.float32(0.9995062), np.int64(424): np.float32(0.45423943), np.int64(425): np.float32(0.9995062), np.int64(426): np.float32(0.45423943), np.int64(427): np.float32(0.45423943), np.int64(428): np.float32(0.45423943), np.int64(429): np.float32(0.7687925), np.int64(430): np.float32(0.7687925), np.int64(431): np.float32(1.4280674), np.int64(432): np.float32(0.7687925), np.int64(433): np.float32(0.7687925), np.int64(434): np.float32(0.7687925), np.int64(435): np.float32(0.45423943), np.int64(436): np.float32(0.45423943), np.int64(437): np.float32(0.7687925), np.int64(438): np.float32(0.7687925), np.int64(439): np.float32(0.45423943), np.int64(440): np.float32(0.45423943), np.int64(441): np.float32(0.7687925), np.int64(442): np.float32(1.8177736), np.int64(443): np.float32(0.45423943), np.int64(444): np.float32(0.45423943), np.int64(445): np.float32(0.45423943), np.int64(446): np.float32(0.9995062), np.int64(447): np.float32(0.7687925), np.int64(448): np.float32(0.45423943), np.int64(449): np.float32(1.3152765), np.int64(450): np.float32(0.45423943), np.int64(451): np.float32(1.4280674), np.int64(452): np.float32(0.45423943), np.int64(453): np.float32(0.9995062), np.int64(454): np.float32(0.45423943), np.int64(455): np.float32(0.9995062), np.int64(456): np.float32(0.45423943), np.int64(457): np.float32(1.3152765), np.int64(458): np.float32(0.45423943), np.int64(459): np.float32(0.45423943), np.int64(460): np.float32(0.45423943), np.int64(461): np.float32(0.45423943), np.int64(462): np.float32(0.45423943), np.int64(463): np.float32(0.45423943), np.int64(464): np.float32(0.45423943), np.int64(465): np.float32(0.7687925), np.int64(466): np.float32(1.1759579), np.int64(467): np.float32(0.9995062), np.int64(468): np.float32(0.7687925), np.int64(469): np.float32(0.7687925), np.int64(470): np.float32(0.45423943), np.int64(471): np.float32(0.45423943), np.int64(472): np.float32(0.9995062), np.int64(473): np.float32(0.7687925), np.int64(474): np.float32(0.9995062), np.int64(475): np.float32(0.45423943), np.int64(476): np.float32(0.7687925), np.int64(477): np.float32(0.9995062), np.int64(478): np.float32(1.1759579), np.int64(479): np.float32(0.7687925), np.int64(480): np.float32(0.7687925), np.int64(481): np.float32(0.7687925), np.int64(482): np.float32(0.7687925), np.int64(483): np.float32(0.7687925), np.int64(484): np.float32(0.7687925), np.int64(485): np.float32(0.7687925), np.int64(486): np.float32(0.7687925), np.int64(487): np.float32(0.7687925), np.int64(488): np.float32(1.3152765), np.int64(489): np.float32(0.7687925), np.int64(490): np.float32(0.7687925), np.int64(491): np.float32(1.1759579), np.int64(492): np.float32(0.9995062), np.int64(493): np.float32(0.7687925), np.int64(494): np.float32(1.5212489), np.int64(495): np.float32(1.5212489), np.int64(496): np.float32(0.7687925), np.int64(497): np.float32(0.7687925), np.int64(498): np.float32(1.1759579), np.int64(499): np.float32(0.7687925), np.int64(500): np.float32(1.1759579), np.int64(501): np.float32(0.9995062), np.int64(502): np.float32(0.7687925), np.int64(503): np.float32(0.7687925), np.int64(504): np.float32(1.3152765), np.int64(505): np.float32(0.7687925), np.int64(506): np.float32(0.7687925), np.int64(507): np.float32(0.7687925), np.int64(508): np.float32(0.9995062), np.int64(509): np.float32(0.7687925), np.int64(510): np.float32(0.9995062), np.int64(511): np.float32(0.7687925), np.int64(512): np.float32(0.7687925), np.int64(513): np.float32(0.7687925), np.int64(514): np.float32(0.7687925), np.int64(515): np.float32(0.9995062), np.int64(516): np.float32(0.7687925), np.int64(517): np.float32(0.7687925), np.int64(518): np.float32(0.45423943), np.int64(519): np.float32(1.1759579), np.int64(520): np.float32(0.45423943), np.int64(521): np.float32(0.45423943), np.int64(522): np.float32(0.45423943), np.int64(523): np.float32(0.45423943), np.int64(524): np.float32(0.45423943), np.int64(525): np.float32(0.45423943), np.int64(526): np.float32(0.45423943), np.int64(527): np.float32(0.7687925), np.int64(528): np.float32(0.45423943), np.int64(529): np.float32(0.45423943), np.int64(530): np.float32(0.45423943), np.int64(531): np.float32(0.45423943), np.int64(532): np.float32(0.45423943), np.int64(533): np.float32(0.7687925), np.int64(534): np.float32(1.1759579), np.int64(535): np.float32(0.9995062), np.int64(536): np.float32(0.9995062), np.int64(537): np.float32(0.45423943), np.int64(538): np.float32(0.45423943), np.int64(539): np.float32(0.45423943), np.int64(540): np.float32(1.1759579), np.int64(541): np.float32(0.7687925), np.int64(542): np.float32(0.45423943), np.int64(543): np.float32(0.45423943), np.int64(544): np.float32(0.45423943), np.int64(545): np.float32(0.7687925), np.int64(546): np.float32(0.45423943), np.int64(547): np.float32(0.45423943), np.int64(548): np.float32(0.9995062), np.int64(549): np.float32(0.9995062), np.int64(550): np.float32(0.45423943), np.int64(551): np.float32(0.45423943), np.int64(552): np.float32(0.45423943), np.int64(553): np.float32(0.45423943), np.int64(554): np.float32(0.45423943), np.int64(555): np.float32(0.7687925), np.int64(556): np.float32(0.45423943), np.int64(557): np.float32(0.45423943), np.int64(558): np.float32(0.45423943), np.int64(559): np.float32(0.45423943), np.int64(560): np.float32(0.45423943), np.int64(561): np.float32(0.45423943), np.int64(562): np.float32(0.45423943), np.int64(563): np.float32(0.7687925), np.int64(564): np.float32(1.1759579), np.int64(565): np.float32(0.7687925), np.int64(566): np.float32(0.9995062), np.int64(567): np.float32(0.9995062), np.int64(568): np.float32(0.45423943), np.int64(569): np.float32(0.45423943), np.int64(570): np.float32(0.45423943), np.int64(571): np.float32(0.45423943), np.int64(572): np.float32(0.45423943), np.int64(573): np.float32(0.45423943), np.int64(574): np.float32(0.45423943), np.int64(575): np.float32(0.45423943), np.int64(576): np.float32(0.45423943), np.int64(577): np.float32(0.45423943), np.int64(578): np.float32(0.45423943), np.int64(579): np.float32(0.45423943), np.int64(580): np.float32(0.45423943), np.int64(581): np.float32(0.45423943), np.int64(582): np.float32(0.45423943), np.int64(583): np.float32(0.9995062), np.int64(584): np.float32(0.9995062), np.int64(585): np.float32(0.45423943), np.int64(586): np.float32(0.45423943), np.int64(587): np.float32(0.7687925), np.int64(588): np.float32(0.7687925), np.int64(589): np.float32(0.45423943), np.int64(590): np.float32(0.45423943), np.int64(591): np.float32(0.45423943), np.int64(592): np.float32(0.45423943), np.int64(593): np.float32(0.7687925), np.int64(594): np.float32(0.45423943), np.int64(595): np.float32(0.45423943), np.int64(596): np.float32(0.45423943), np.int64(597): np.float32(0.7687925), np.int64(598): np.float32(0.45423943), np.int64(599): np.float32(0.45423943), np.int64(600): np.float32(0.7687925), np.int64(601): np.float32(0.45423943), np.int64(602): np.float32(0.45423943), np.int64(603): np.float32(0.45423943), np.int64(604): np.float32(0.45423943), np.int64(605): np.float32(1.1759579), np.int64(606): np.float32(0.9995062), np.int64(607): np.float32(0.45423943), np.int64(608): np.float32(0.45423943), np.int64(609): np.float32(0.45423943), np.int64(610): np.float32(0.45423943), np.int64(611): np.float32(0.45423943), np.int64(612): np.float32(0.45423943), np.int64(613): np.float32(0.45423943), np.int64(614): np.float32(0.7687925), np.int64(615): np.float32(0.45423943), np.int64(616): np.float32(0.45423943), np.int64(617): np.float32(0.45423943), np.int64(618): np.float32(0.45423943), np.int64(619): np.float32(0.7687925), np.int64(620): np.float32(0.45423943), np.int64(621): np.float32(0.45423943), np.int64(622): np.float32(0.45423943), np.int64(623): np.float32(0.7687925), np.int64(624): np.float32(0.45423943), np.int64(625): np.float32(0.9995062), np.int64(626): np.float32(0.45423943), np.int64(627): np.float32(0.7687925), np.int64(628): np.float32(0.45423943), np.int64(629): np.float32(0.45423943), np.int64(630): np.float32(0.45423943), np.int64(631): np.float32(0.45423943), np.int64(632): np.float32(0.45423943), np.int64(633): np.float32(0.45423943), np.int64(634): np.float32(0.45423943), np.int64(635): np.float32(0.45423943), np.int64(636): np.float32(0.45423943), np.int64(637): np.float32(0.45423943), np.int64(638): np.float32(0.45423943), np.int64(639): np.float32(0.45423943), np.int64(640): np.float32(0.45423943), np.int64(641): np.float32(0.45423943), np.int64(642): np.float32(0.45423943), np.int64(643): np.float32(0.45423943), np.int64(644): np.float32(0.45423943), np.int64(645): np.float32(0.45423943), np.int64(646): np.float32(0.45423943), np.int64(647): np.float32(0.45423943), np.int64(648): np.float32(0.45423943), np.int64(649): np.float32(0.45423943), np.int64(650): np.float32(0.45423943), np.int64(651): np.float32(0.7687925), np.int64(652): np.float32(0.45423943), np.int64(653): np.float32(0.45423943), np.int64(654): np.float32(0.45423943), np.int64(655): np.float32(0.45423943), np.int64(656): np.float32(0.45423943), np.int64(657): np.float32(0.45423943), np.int64(658): np.float32(0.45423943), np.int64(659): np.float32(0.45423943), np.int64(660): np.float32(0.45423943), np.int64(661): np.float32(0.45423943), np.int64(662): np.float32(0.45423943), np.int64(663): np.float32(0.7687925), np.int64(664): np.float32(0.7687925), np.int64(665): np.float32(0.7687925), np.int64(666): np.float32(0.45423943), np.int64(667): np.float32(0.9995062), np.int64(668): np.float32(0.7687925), np.int64(669): np.float32(0.45423943), np.int64(670): np.float32(0.45423943), np.int64(671): np.float32(0.45423943), np.int64(672): np.float32(0.45423943), np.int64(673): np.float32(0.45423943), np.int64(674): np.float32(0.45423943), np.int64(675): np.float32(0.7687925), np.int64(676): np.float32(0.45423943), np.int64(677): np.float32(0.45423943), np.int64(678): np.float32(0.45423943), np.int64(679): np.float32(0.7687925), np.int64(680): np.float32(0.45423943), np.int64(681): np.float32(0.45423943), np.int64(682): np.float32(0.45423943), np.int64(683): np.float32(0.45423943), np.int64(684): np.float32(0.45423943), np.int64(685): np.float32(0.45423943), np.int64(686): np.float32(0.7687925), np.int64(687): np.float32(0.7687925), np.int64(688): np.float32(0.45423943), np.int64(689): np.float32(0.45423943), np.int64(690): np.float32(0.45423943), np.int64(691): np.float32(0.45423943), np.int64(692): np.float32(0.45423943), np.int64(693): np.float32(0.45423943), np.int64(694): np.float32(0.45423943), np.int64(695): np.float32(0.45423943)}\n"
     ]
    }
   ],
   "source": [
    "print(\"BM25 embedding:\", get_bm25_embedding(df_resumes[\"resume\"][0]))"
   ]
  },
  {
   "cell_type": "markdown",
   "metadata": {},
   "source": [
    "## Create Dense Embeddings"
   ]
  },
  {
   "cell_type": "code",
   "execution_count": 23,
   "metadata": {},
   "outputs": [
    {
     "name": "stderr",
     "output_type": "stream",
     "text": [
      "No sentence-transformers model found with name bert-base-uncased. Creating a new one with mean pooling.\n",
      "/mnt/d/vault/devhub/ats-tracker/.venv/lib/python3.11/site-packages/transformers/tokenization_utils_base.py:1601: FutureWarning: `clean_up_tokenization_spaces` was not set. It will be set to `True` by default. This behavior will be depracted in transformers v4.45, and will be then set to `False` by default. For more details check this issue: https://github.com/huggingface/transformers/issues/31884\n",
      "  warnings.warn(\n"
     ]
    }
   ],
   "source": [
    "# initialize the SentenceTransformerEmbeddingFunction\n",
    "sentence_transformer_ef = model.dense.SentenceTransformerEmbeddingFunction(\n",
    "    model_name=\"bert-base-uncased\", # Specify the model name\n",
    "    device=\"cpu\"                    # Specify the device to use, e.g., 'cpu' or 'cuda:0'\n",
    ")"
   ]
  },
  {
   "cell_type": "code",
   "execution_count": 24,
   "metadata": {},
   "outputs": [],
   "source": [
    "def get_dense_embedding(text):\n",
    "    return sentence_transformer_ef.encode_documents([text])[0]"
   ]
  },
  {
   "cell_type": "code",
   "execution_count": 25,
   "metadata": {},
   "outputs": [
    {
     "name": "stdout",
     "output_type": "stream",
     "text": [
      "Dense dimension: 768 \n",
      "Dense embedding: [-5.10143377e-02  7.24285142e-03  5.06160744e-02  4.64925217e-03\n",
      "  5.80653362e-02 -2.42842603e-02 -6.50820369e-03  4.57895063e-02\n",
      " -1.22428890e-02 -4.09286059e-02 -1.66829433e-02 -4.27201614e-02\n",
      " -8.87975190e-03  2.24527791e-02  1.36356018e-02  4.30837311e-02\n",
      "  4.90324460e-02  1.84105500e-03 -2.36457847e-02  4.86912206e-02\n",
      "  1.68682877e-02 -9.77374054e-03  8.44305847e-03  7.80247003e-02\n",
      "  1.11021986e-02  4.01990535e-03 -6.77156541e-03 -1.37882372e-02\n",
      " -3.29883955e-02 -9.46402270e-03  4.93330471e-02  2.87058367e-03\n",
      " -1.14808558e-02 -2.85384897e-02  1.85162369e-02 -4.71323542e-03\n",
      " -2.47143973e-02 -7.57722324e-03 -1.22699821e-02  1.67595055e-02\n",
      " -7.21452311e-02 -4.85677235e-02  2.23302189e-03 -4.69980016e-03\n",
      " -4.07690462e-03 -2.85649057e-02  4.89968620e-02 -3.19104502e-03\n",
      "  1.27375731e-02 -3.02643585e-03 -7.75170550e-02  3.14019844e-02\n",
      " -3.95963974e-02 -2.65749767e-02  4.85384539e-02  6.47595748e-02\n",
      "  1.23873847e-02 -7.63412639e-02 -5.65818287e-02 -3.10707502e-02\n",
      "  1.55231245e-02 -2.85298955e-02 -2.51789764e-03 -2.69121639e-02\n",
      "  4.18499410e-02 -8.11212510e-03  1.48718050e-02  4.57803272e-02\n",
      " -8.88327137e-02 -1.85834058e-03 -1.88325439e-02  1.82721317e-02\n",
      " -2.02099159e-02 -1.23482347e-02 -3.95006780e-03 -1.68610718e-02\n",
      "  5.02578309e-03  4.67801765e-02  8.84194952e-03  1.69727895e-02\n",
      " -2.31611766e-02  4.85489294e-02 -2.25439500e-02  4.26120460e-02\n",
      "  2.91865394e-02  1.07975528e-02  2.00295839e-02  2.82513183e-02\n",
      " -4.44771796e-02  6.10092729e-02  2.92794537e-02 -3.06206252e-02\n",
      "  3.57687287e-02  2.04348154e-02  3.87459248e-02  4.63368790e-03\n",
      "  2.12983228e-02  2.52670757e-02 -1.80836953e-02  4.04346734e-03\n",
      "  8.14306550e-03 -1.43823298e-02  7.98067823e-03 -9.90905985e-03\n",
      "  8.35588109e-03 -2.53851451e-02  2.86898366e-03  4.28134874e-02\n",
      " -3.97052802e-02  4.69612405e-02  2.25189868e-02 -2.03595180e-02\n",
      " -9.97043308e-03 -5.01511805e-02 -1.12269148e-02  3.65507836e-03\n",
      " -7.77087291e-04 -6.44435687e-03  3.75206918e-02  1.12592615e-02\n",
      "  3.27202901e-02  1.27081797e-02  1.11885704e-02  1.08580954e-01\n",
      " -1.70181431e-02  4.24977485e-03 -1.37525452e-02  2.98960190e-02\n",
      "  9.63591877e-03 -8.37652758e-03  1.88192707e-02  3.41372602e-02\n",
      "  8.11075233e-03 -1.51348603e-03 -1.63851250e-02  4.35242504e-02\n",
      " -7.77683966e-03 -2.06910633e-02 -2.82077119e-02  2.12796815e-02\n",
      " -1.88308186e-03 -5.04716448e-02  4.68435287e-02  2.11973060e-02\n",
      "  1.09026497e-02  1.97012932e-03 -4.64840606e-03 -1.55729726e-02\n",
      " -1.19223306e-02  3.50733064e-02  8.81741196e-03  1.98111814e-02\n",
      " -1.71406399e-02 -2.91777197e-02 -1.85565911e-02  1.37238540e-02\n",
      " -1.79888792e-02  1.73628293e-02 -1.78341363e-02 -1.76566336e-02\n",
      "  5.37888967e-02  2.09658574e-02 -5.63733876e-02  4.91277538e-02\n",
      "  1.24746030e-02  8.03209562e-03 -1.17460508e-02  3.00604161e-02\n",
      " -1.04866829e-02  5.58613380e-03 -1.83973406e-02 -2.15716120e-02\n",
      "  4.30246927e-02 -6.49252033e-04  3.03689446e-02  1.12562235e-02\n",
      "  4.53310944e-02 -1.13917710e-02  2.07654629e-02  1.08680530e-02\n",
      " -8.10329244e-02  2.44797934e-02 -1.74464867e-03 -1.85544454e-02\n",
      "  3.71424519e-02  6.53714500e-03  4.83982563e-02 -4.46085818e-02\n",
      "  1.26990201e-02 -1.59442574e-02 -7.21602589e-02 -5.88950403e-02\n",
      " -5.42605994e-03  7.71578681e-03  3.51120196e-02 -3.34205963e-02\n",
      " -1.67035144e-02  8.27433262e-03 -4.98388447e-02 -1.72269088e-03\n",
      "  2.79920939e-02  2.16264464e-02  1.31641785e-02  3.15738376e-03\n",
      " -2.39591766e-02 -5.31865992e-02  1.31875118e-02 -6.68528378e-02\n",
      " -3.64558361e-02  1.60948262e-02 -5.39445058e-02  1.98728312e-02\n",
      " -1.45965610e-02  1.72236133e-02  7.82133825e-03 -1.82409829e-04\n",
      " -3.53241898e-02 -3.45540717e-02  3.50021869e-02 -7.09962286e-03\n",
      "  2.71965042e-02  1.11743866e-03 -6.10983036e-02  7.97942877e-02\n",
      " -4.85303514e-02  6.90779686e-02  9.06655472e-03 -1.06790878e-01\n",
      "  6.21409789e-02  4.31347229e-02 -1.62326898e-02 -3.91758010e-02\n",
      "  5.73890321e-02 -5.52569255e-02  3.49172158e-03  2.11898386e-02\n",
      " -3.91202457e-02 -2.31998377e-02  1.27602872e-02 -2.62419768e-02\n",
      " -2.59888694e-02  8.16820562e-02  2.91674472e-02 -1.03080636e-02\n",
      "  3.99094485e-02 -1.60585716e-02 -7.04333698e-03 -1.30608790e-02\n",
      " -1.83859635e-02 -3.23379412e-02 -5.46758026e-02  9.76254605e-03\n",
      " -1.54392968e-03 -6.45122826e-02 -1.65593401e-02 -3.05816960e-02\n",
      " -1.71969254e-02 -4.67051230e-02 -3.55122052e-02  3.15339714e-02\n",
      "  2.29853801e-02  1.25447456e-02 -2.92048836e-03  1.82089675e-02\n",
      " -1.87547319e-02 -7.58299381e-02  2.49742158e-02  3.84755805e-02\n",
      "  3.92371304e-02  2.12140288e-02  7.85826799e-03 -2.98249274e-02\n",
      " -1.28538981e-02  6.54773042e-02 -4.11011688e-02 -3.61779444e-02\n",
      "  2.69629098e-02  1.90597419e-02  8.66479520e-03 -2.90969871e-02\n",
      "  1.65896248e-02  4.56014425e-02 -2.39968356e-02  2.51815431e-02\n",
      "  7.76220625e-03 -9.94220842e-03  3.68617512e-02 -1.52984234e-02\n",
      " -2.97948308e-02 -4.16184105e-02  2.37344438e-03  2.19316036e-02\n",
      " -6.81793541e-02  4.07406408e-03  4.33472991e-02  2.39402913e-02\n",
      "  2.79914052e-03  1.99006870e-02  2.43240874e-02  3.37814214e-03\n",
      " -4.33187895e-02 -3.83629054e-02  3.04715019e-02  1.22499298e-02\n",
      "  1.89872310e-02  1.13410139e-02 -9.32869222e-03 -6.57351166e-02\n",
      " -3.91309530e-01 -2.03194376e-02 -1.86550501e-03 -2.98941974e-02\n",
      "  3.23123001e-02 -1.25684002e-02  3.39435949e-03 -5.33728115e-03\n",
      " -3.36913764e-02  1.55326156e-02 -1.14128161e-02 -1.93015337e-02\n",
      "  2.15461962e-02  1.44865150e-02  9.50422883e-03  1.79041512e-02\n",
      "  8.41642078e-03 -2.73021851e-02  6.04941323e-03  3.03588621e-02\n",
      " -3.56169418e-02 -7.70458132e-02  1.80345792e-02 -3.62255760e-02\n",
      "  2.70657651e-02  5.35004660e-02 -6.32968619e-02  7.87113619e-04\n",
      " -2.19100136e-02 -1.98190082e-02  1.93138625e-02 -2.79476419e-02\n",
      " -2.54451390e-03  3.42572816e-02  1.06215244e-02 -8.41071270e-03\n",
      "  4.99537028e-03 -4.20879535e-02 -2.77079362e-02 -7.45258778e-02\n",
      "  3.74693684e-02 -9.41811353e-02 -2.80570548e-05 -2.10929699e-02\n",
      "  7.23059475e-02 -3.62357311e-02  2.62884162e-02  5.88439545e-03\n",
      "  1.65774748e-02  3.87282409e-02  2.96869818e-02 -1.02088926e-02\n",
      " -4.47922982e-02 -2.71607004e-02 -8.60830769e-03 -4.27244827e-02\n",
      "  4.77186851e-02  4.71420921e-02 -4.99128513e-02  4.90674516e-03\n",
      "  1.61918029e-02 -3.92973013e-02 -5.01295589e-02 -5.18836565e-02\n",
      "  3.65845533e-03 -1.62187722e-02 -7.16193989e-02 -2.83441171e-02\n",
      " -1.46126105e-02 -1.40948622e-02 -7.91246258e-03  7.78369531e-02\n",
      " -4.84230220e-02 -4.05890197e-02 -1.77531713e-03 -6.76261559e-02\n",
      "  3.45923603e-02 -2.46571358e-02 -1.16417529e-02 -2.21797395e-02\n",
      " -1.27625288e-02 -5.23734838e-02  3.05789541e-02 -9.86482203e-03\n",
      " -3.45038623e-02 -6.46625599e-03  4.16665478e-03 -1.80923156e-02\n",
      " -4.06426750e-02 -6.15110397e-02  3.89788039e-02  2.23275274e-02\n",
      "  4.40587141e-02  1.22861220e-02  4.85087819e-02 -9.83646885e-03\n",
      "  5.32799326e-02 -1.37850055e-02  1.13955066e-02 -6.14443980e-02\n",
      "  1.73326675e-02  7.78114516e-03  6.11259416e-02 -2.03384291e-02\n",
      " -1.47147588e-02  1.01898471e-02 -2.82632075e-02 -1.66406501e-02\n",
      "  4.45568152e-02 -7.30715366e-03  7.64539000e-03 -2.48459019e-02\n",
      "  4.51113880e-02 -6.16065301e-02 -2.50629410e-02  1.46104926e-02\n",
      "  1.80831775e-02  7.95674771e-02 -3.29053146e-03 -4.29461636e-02\n",
      " -2.77966820e-02  4.12424877e-02 -4.30422742e-03 -2.61033364e-02\n",
      " -3.09081897e-02  9.27111600e-03 -2.89406851e-02  3.13538276e-02\n",
      "  1.83826908e-02 -4.22468968e-03 -2.67997552e-02  6.31875917e-03\n",
      " -1.42818447e-02  2.52115577e-02  2.23437939e-02 -1.46349042e-03\n",
      " -1.16559435e-02 -5.33996522e-02  1.18517457e-03  1.64964925e-02\n",
      "  5.64852217e-03  4.57630455e-02  1.95144918e-02 -1.48777561e-02\n",
      " -9.59560182e-03  4.80510890e-02 -1.40265422e-02  2.55880319e-02\n",
      " -1.37963435e-02  1.32124936e-02 -7.53072277e-02 -4.39132117e-02\n",
      " -3.26929055e-02 -1.12983659e-02  2.85727950e-03  4.54474017e-02\n",
      "  2.73082256e-02 -3.02303769e-02  1.89969242e-02 -5.39211221e-02\n",
      "  3.91542390e-02 -1.14392843e-02  3.25868726e-02  2.03319290e-03\n",
      " -7.83577375e-03  8.65684897e-02  6.55589579e-03 -2.39597149e-02\n",
      "  9.18857940e-03 -1.20801954e-02 -2.53252499e-02 -3.08958590e-02\n",
      " -5.60070341e-03 -4.83336002e-02 -1.72067080e-02  4.89372984e-02\n",
      "  1.41496174e-02 -4.30049375e-02 -2.20778957e-02  4.81738932e-02\n",
      "  3.00492579e-03 -2.98179556e-02 -3.41559276e-02 -1.86339971e-02\n",
      "  3.38088349e-02  1.21271517e-02  2.02593990e-02 -7.37036765e-02\n",
      " -1.96321588e-03  1.38976676e-02  1.96394026e-02  5.34633584e-02\n",
      " -1.14156911e-02  1.54808601e-02 -1.15037262e-02 -3.22161950e-02\n",
      "  5.99826276e-02  1.86249695e-03 -3.14551741e-02 -1.20820906e-02\n",
      "  1.09197516e-02 -1.67750716e-02 -5.21615669e-02  2.20711548e-02\n",
      " -7.01346854e-03 -2.36540157e-02  2.54526804e-03  2.90832128e-02\n",
      "  1.89104192e-02  1.70398713e-03 -4.05760892e-02 -1.24270050e-02\n",
      " -4.76108193e-02 -2.61109299e-03 -4.92735393e-03 -5.92964068e-02\n",
      "  1.76752228e-02 -4.81440080e-03 -5.63837737e-02  1.61676500e-02\n",
      " -3.04615591e-02  1.42551605e-02  1.47193624e-02 -1.20222028e-02\n",
      " -5.07324301e-02 -3.44058219e-03  2.12671906e-02 -1.90262112e-03\n",
      " -3.21660973e-02 -3.90587822e-02  1.27062574e-02 -1.11276738e-01\n",
      "  2.48191208e-02 -4.86296136e-04 -1.41968215e-02  6.08210173e-03\n",
      " -1.28931471e-03 -9.58907977e-02  3.29912677e-02 -2.78291125e-02\n",
      " -1.69842765e-02 -1.17552588e-02 -4.45924774e-02 -3.61709520e-02\n",
      "  1.97017398e-02 -2.79237051e-02 -3.57623920e-02  3.76467556e-02\n",
      " -3.73633318e-02  5.86451516e-02 -2.00929083e-02 -1.83246669e-03\n",
      "  2.61643212e-02 -1.63824540e-02  3.12518030e-02 -6.42135814e-02\n",
      " -6.33798465e-02 -2.12080758e-02 -3.27423587e-02 -3.89725268e-02\n",
      " -8.05548020e-03 -1.27630103e-02 -6.46077935e-03  4.32981458e-03\n",
      "  4.98799272e-02  8.05514213e-03 -2.38034427e-02 -3.58135207e-03\n",
      "  4.96350555e-03 -5.44432700e-02  3.69432941e-03 -2.20509339e-02\n",
      "  1.27814319e-02 -1.50534147e-02  2.27318164e-02 -6.57905918e-03\n",
      "  1.91834271e-02 -5.25851808e-02  7.34493732e-02 -3.57380621e-02\n",
      " -5.61236478e-02 -1.91366468e-02  7.07887812e-03  2.09146645e-02\n",
      "  4.38502282e-02 -6.17095493e-02  2.03310233e-02  3.61039862e-02\n",
      "  4.08249646e-02 -4.77207452e-03  2.45313458e-02 -1.06961243e-02\n",
      " -2.45119687e-02  1.52277015e-02 -6.00679182e-02  4.22173133e-03\n",
      "  8.64004195e-02  2.21173707e-02  3.19775223e-04  3.03233787e-02\n",
      "  2.41473895e-02  1.46109499e-02  4.90125641e-02  1.46885384e-02\n",
      " -1.35255167e-02  3.75935137e-02  1.83085278e-02 -6.86225295e-02\n",
      " -2.11892556e-02 -9.25383344e-03 -5.67872589e-03 -4.46070917e-02\n",
      "  7.45106339e-02  2.94045825e-02 -8.27454999e-02 -4.03546728e-02\n",
      " -7.23797316e-03 -6.18457515e-03  2.65786257e-02 -1.78394932e-02\n",
      "  1.32178999e-02 -1.10913673e-02  6.76162615e-02 -9.56694130e-03\n",
      "  2.70600934e-02  7.64100403e-02 -8.94443318e-03 -2.05851197e-02\n",
      " -3.51077784e-03  2.20651384e-02  1.73032694e-02  2.21537817e-02\n",
      " -1.79642197e-02  3.75432074e-02  4.05239960e-04  1.66046284e-02\n",
      " -1.58179924e-02  1.24448634e-04  2.89637223e-03 -4.87662992e-03\n",
      "  8.83288775e-03  1.57807432e-02  5.32522202e-02  4.14148644e-02\n",
      "  3.95945795e-02  4.89595309e-02  4.97150160e-02 -3.39093525e-03\n",
      "  8.28923658e-02  6.59246817e-02  2.61051543e-02  3.54754343e-03\n",
      "  3.01106647e-03  2.22129561e-03  1.21394778e-02  9.45510063e-03\n",
      "  3.11357342e-02  4.85002883e-02  8.47987738e-03  1.00463077e-01\n",
      "  3.31716798e-02  1.95051730e-02  8.16930756e-02 -4.83325273e-02\n",
      " -3.44155692e-02 -2.06318288e-03  5.60842715e-02 -5.23469746e-02\n",
      " -5.94428275e-04 -6.48030313e-04 -2.03456753e-03  3.85394096e-02\n",
      " -3.24437246e-02 -1.27153080e-02  9.27985273e-03  1.89908668e-02\n",
      "  1.66669004e-02 -1.31092127e-02 -1.06528290e-02 -2.67497031e-03\n",
      " -1.18794972e-02 -2.24955119e-02 -2.40559354e-02 -4.24548909e-02\n",
      " -3.10458876e-02 -1.60030052e-02 -6.42350735e-03  1.07577641e-03\n",
      "  1.25356764e-02 -4.93480042e-02 -2.00839601e-02 -1.85534786e-02\n",
      "  4.36740294e-02 -3.96888517e-02 -4.04676516e-03 -2.43440866e-02\n",
      "  3.89444456e-02  2.40975637e-02  8.90668482e-02  1.17550930e-02\n",
      "  2.51153130e-02 -3.16666216e-02 -2.12012604e-02  1.32883228e-02\n",
      "  1.68341072e-03  3.30547467e-02  4.10090247e-03  4.90661450e-02\n",
      " -4.61282097e-02 -4.38806694e-03  7.16906367e-03  5.02072573e-02\n",
      " -3.93762514e-02 -2.21911408e-02 -5.19616529e-03  1.05131576e-02\n",
      "  1.53215202e-02  7.43464613e-03 -4.03075740e-02  7.07528461e-03\n",
      " -5.12835272e-02 -5.32612801e-02  3.43543515e-02 -1.42724756e-02\n",
      " -2.19122544e-02 -1.37959914e-02  5.57492711e-02  1.99478585e-02\n",
      " -1.17735257e-02 -5.69110364e-03 -4.46456345e-03  1.54690016e-02\n",
      "  6.08863961e-03  4.47385758e-02 -3.31202410e-02 -1.32097043e-02\n",
      " -4.49230708e-02  3.87298986e-02 -2.83508506e-02  1.08367531e-02\n",
      "  4.20781458e-03  5.18923886e-02 -1.30966038e-03  1.07315676e-02\n",
      "  2.50376817e-02 -2.65877731e-02 -2.77108867e-02 -4.65503521e-02\n",
      " -2.79372204e-02 -2.33513489e-02 -2.23795837e-03 -8.04677699e-03\n",
      "  9.83849633e-03 -4.84158769e-02  5.47920167e-03 -6.40226854e-03\n",
      " -9.24899336e-03 -2.12628599e-02 -5.70107950e-03 -5.14938822e-03]\n"
     ]
    }
   ],
   "source": [
    "doc=df_resumes[\"resume\"][1500]\n",
    "dense_embeddings=get_dense_embedding(doc)\n",
    "dense_dimension=len(dense_embeddings)\n",
    "\n",
    "print(\"Dense dimension:\", dense_dimension, \"\\nDense embedding:\", dense_embeddings)"
   ]
  },
  {
   "cell_type": "markdown",
   "metadata": {},
   "source": [
    "## MilvusDB Ops"
   ]
  },
  {
   "cell_type": "markdown",
   "metadata": {},
   "source": [
    "### Connect to Milvus Lite Database"
   ]
  },
  {
   "cell_type": "code",
   "execution_count": 13,
   "metadata": {},
   "outputs": [],
   "source": [
    "connections.connect(uri=milvusdb_uri)"
   ]
  },
  {
   "cell_type": "markdown",
   "metadata": {},
   "source": [
    "### Create collections"
   ]
  },
  {
   "cell_type": "code",
   "execution_count": 14,
   "metadata": {},
   "outputs": [],
   "source": [
    "if utility.has_collection(collection_name):\n",
    "    Collection(collection_name).drop()"
   ]
  },
  {
   "cell_type": "markdown",
   "metadata": {},
   "source": [
    "### Define the collection schema"
   ]
  },
  {
   "cell_type": "code",
   "execution_count": 15,
   "metadata": {},
   "outputs": [],
   "source": [
    "# define field names and their data types\n",
    "pk_field=\"doc_id\"\n",
    "id_field=\"resume_id\"\n",
    "domain_field=\"domain\"\n",
    "uri_field=\"uri\"\n",
    "dense_field=\"dense\"\n",
    "sparse_field=\"sparse\""
   ]
  },
  {
   "cell_type": "code",
   "execution_count": 16,
   "metadata": {},
   "outputs": [],
   "source": [
    "fields=[\n",
    "    FieldSchema(name=pk_field, dtype=DataType.INT64, is_primary=True, auto_id=True, max_length=100),\n",
    "    FieldSchema(name=id_field, dtype=DataType.INT64, max_length=100),\n",
    "    FieldSchema(name=domain_field, dtype=DataType.VARCHAR, max_length=100),\n",
    "    FieldSchema(name=uri_field, dtype=DataType.VARCHAR, max_length=100),\n",
    "    FieldSchema(name=dense_field, dtype=DataType.FLOAT_VECTOR, dim=dense_dimension),\n",
    "    FieldSchema(name=sparse_field, dtype=DataType.SPARSE_FLOAT_VECTOR),\n",
    "]\n",
    "\n",
    "# create a collection with the defined schema\n",
    "schema=CollectionSchema(fields)"
   ]
  },
  {
   "cell_type": "markdown",
   "metadata": {},
   "source": [
    "### Configure the index"
   ]
  },
  {
   "cell_type": "code",
   "execution_count": 17,
   "metadata": {},
   "outputs": [],
   "source": [
    "collection=Collection(collection_name, schema, consistency_level=\"Strong\")\n",
    "\n",
    "# To make vector search efficient, we need to create indices for the vector fields\n",
    "sparse_index={\"index_type\": \"SPARSE_INVERTED_INDEX\", \"metric_type\": \"IP\"}\n",
    "collection.create_index(sparse_field, sparse_index)\n",
    "\n",
    "dense_index={\"index_type\": \"AUTOINDEX\", \"metric_type\": \"IP\"}\n",
    "collection.create_index(dense_field, dense_index)\n",
    "\n",
    "collection.load()"
   ]
  },
  {
   "cell_type": "markdown",
   "metadata": {},
   "source": [
    "## Insert Data"
   ]
  },
  {
   "cell_type": "code",
   "execution_count": 18,
   "metadata": {},
   "outputs": [],
   "source": [
    "batch_size=100\n",
    "\n",
    "def divide_chunks(df, batch_size):\n",
    "    # yield successive n-sized chunks from the dataframe\n",
    "    for i in range(0, len(df), batch_size):\n",
    "        yield df.iloc[i:i + batch_size]"
   ]
  },
  {
   "cell_type": "code",
   "execution_count": 19,
   "metadata": {},
   "outputs": [],
   "source": [
    "def process_batch(batch):\n",
    "    entities=[]\n",
    "    for _, row in batch.iterrows():\n",
    "        resume_id=row[\"resume_id\"]\n",
    "        resume_uri=row[\"resume_uri\"]\n",
    "        resume_domain=row[\"resume_domain\"]\n",
    "        resume=row[\"resume\"]\n",
    "\n",
    "        # create sparse BM25 embeddings\n",
    "        sparse_embeds=get_bm25_embedding(resume)\n",
    "        \n",
    "        # create dense embeddings\n",
    "        dense_embeds=get_dense_embedding(resume)\n",
    "\n",
    "        # create entity with correct field names\n",
    "        entity = {\n",
    "            id_field: resume_id,\n",
    "            domain_field: resume_domain,\n",
    "            uri_field: resume_uri,\n",
    "            dense_field: dense_embeds,        # dense embedding field\n",
    "            sparse_field: sparse_embeds,      # sparse embedding field\n",
    "        }\n",
    "\n",
    "        entities.append(entity)     \n",
    "\n",
    "    # upsert the batch of entities into Milvus\n",
    "    if len(entities) > 0:\n",
    "        resp = collection.insert(entities)\n",
    "\n",
    "    return resp"
   ]
  },
  {
   "cell_type": "code",
   "execution_count": 20,
   "metadata": {},
   "outputs": [
    {
     "data": {
      "application/vnd.jupyter.widget-view+json": {
       "model_id": "bf666f27c6554435af343e09611db309",
       "version_major": 2,
       "version_minor": 0
      },
      "text/plain": [
       "0it [00:00, ?it/s]"
      ]
     },
     "metadata": {},
     "output_type": "display_data"
    }
   ],
   "source": [
    "# process and insert the df_resumes in batches\n",
    "for batch in tqdm(divide_chunks(df_resumes, batch_size)):\n",
    "    # process each batch\n",
    "    resp = process_batch(batch)\n",
    "\n",
    "    # flush to ensure data is persisted\n",
    "    collection.flush()\n",
    "\n",
    "# load the collection into memory for querying\n",
    "collection.load()"
   ]
  },
  {
   "cell_type": "markdown",
   "metadata": {},
   "source": [
    "## Hybrid Retrieval"
   ]
  },
  {
   "cell_type": "markdown",
   "metadata": {},
   "source": [
    "### Connect to Milvus"
   ]
  },
  {
   "cell_type": "code",
   "execution_count": 26,
   "metadata": {},
   "outputs": [],
   "source": [
    "connections.connect(uri=milvusdb_uri)\n",
    "collection = Collection(collection_name)\n",
    "collection.load()"
   ]
  },
  {
   "cell_type": "markdown",
   "metadata": {},
   "source": [
    "### Retrieval"
   ]
  },
  {
   "cell_type": "code",
   "execution_count": 27,
   "metadata": {},
   "outputs": [],
   "source": [
    "def convert_to_json_obj(data):\n",
    "    results=[\n",
    "        {\n",
    "            \"distance\": round(item.distance * 100, 2),\n",
    "            \"resume_id\": item.get(\"resume_id\"),\n",
    "            \"domain\": item.get(\"domain\"),\n",
    "            \"uri\": item.get(\"uri\")\n",
    "        } for item in data]\n",
    "    return json.dumps(results, indent=4)"
   ]
  },
  {
   "cell_type": "code",
   "execution_count": 28,
   "metadata": {},
   "outputs": [],
   "source": [
    "def search_resumes(query, sparse_weight=1.0, dense_weight=1.0, top_k=5):\n",
    "    dense_embedding=get_dense_embedding(query)\n",
    "    request_1 = AnnSearchRequest([dense_embedding], \"dense\", {\"metric_type\": \"IP\", \"params\": {}}, limit=top_k)\n",
    "\n",
    "    sparse_embedding=get_bm25_embedding(query)\n",
    "    request_2 = AnnSearchRequest([sparse_embedding], \"sparse\", {\"metric_type\": \"IP\", \"params\": {}}, limit=top_k)\n",
    "\n",
    "    reqs = [request_1, request_2]\n",
    "    ranker=WeightedRanker(sparse_weight, dense_weight)\n",
    "\n",
    "    results = collection.hybrid_search(reqs=reqs, rerank=ranker, limit=top_k, output_fields=[\"resume_id\", \"domain\", \"uri\"])[0]\n",
    "\n",
    "    if len(results) == 0:\n",
    "        return []\n",
    "    else:\n",
    "        results = convert_to_json_obj(results)\n",
    "        return results"
   ]
  },
  {
   "cell_type": "code",
   "execution_count": 29,
   "metadata": {},
   "outputs": [],
   "source": [
    "query=\".net developers with five years experience\""
   ]
  },
  {
   "cell_type": "code",
   "execution_count": 30,
   "metadata": {},
   "outputs": [
    {
     "name": "stdout",
     "output_type": "stream",
     "text": [
      "results: [\n",
      "    {\n",
      "        \"distance\": 48.89,\n",
      "        \"resume_id\": 21156767,\n",
      "        \"domain\": \"CONSULTANT\",\n",
      "        \"uri\": \"../data/master_data/resumes/v1.0/CONSULTANT/21156767.pdf\"\n",
      "    },\n",
      "    {\n",
      "        \"distance\": 48.86,\n",
      "        \"resume_id\": 18236085,\n",
      "        \"domain\": \"BUSINESS-DEVELOPMENT\",\n",
      "        \"uri\": \"../data/master_data/resumes/v1.0/BUSINESS-DEVELOPMENT/18236085.pdf\"\n",
      "    },\n",
      "    {\n",
      "        \"distance\": 48.81,\n",
      "        \"resume_id\": 43311839,\n",
      "        \"domain\": \"CONSULTANT\",\n",
      "        \"uri\": \"../data/master_data/resumes/v1.0/CONSULTANT/43311839.pdf\"\n",
      "    },\n",
      "    {\n",
      "        \"distance\": 48.81,\n",
      "        \"resume_id\": 11637468,\n",
      "        \"domain\": \"BANKING\",\n",
      "        \"uri\": \"../data/master_data/resumes/v1.0/BANKING/11637468.pdf\"\n",
      "    },\n",
      "    {\n",
      "        \"distance\": 48.8,\n",
      "        \"resume_id\": 62994611,\n",
      "        \"domain\": \"AGRICULTURE\",\n",
      "        \"uri\": \"../data/master_data/resumes/v1.0/AGRICULTURE/62994611.pdf\"\n",
      "    }\n",
      "]\n"
     ]
    }
   ],
   "source": [
    "results=search_resumes(query=query,sparse_weight=0.5, dense_weight=0.5, top_k=5)\n",
    "print(\"results:\", results)"
   ]
  },
  {
   "cell_type": "markdown",
   "metadata": {},
   "source": [
    "## Disconnect Milvus DB Connection"
   ]
  },
  {
   "cell_type": "code",
   "execution_count": 36,
   "metadata": {},
   "outputs": [],
   "source": [
    "connections.disconnect(alias=\"default\")"
   ]
  }
 ],
 "metadata": {
  "kernelspec": {
   "display_name": "Python 3",
   "language": "python",
   "name": "python3"
  },
  "language_info": {
   "codemirror_mode": {
    "name": "ipython",
    "version": 3
   },
   "file_extension": ".py",
   "mimetype": "text/x-python",
   "name": "python",
   "nbconvert_exporter": "python",
   "pygments_lexer": "ipython3",
   "version": "3.11.0"
  }
 },
 "nbformat": 4,
 "nbformat_minor": 2
}
