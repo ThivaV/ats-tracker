{
 "cells": [
  {
   "cell_type": "markdown",
   "metadata": {},
   "source": [
    "# ATS Tracker Resume Reader"
   ]
  },
  {
   "cell_type": "code",
   "execution_count": 1,
   "metadata": {},
   "outputs": [],
   "source": [
    "import os\n",
    "import pandas as pd\n",
    "from tqdm.notebook import tqdm\n",
    "from PyPDF2 import PdfReader"
   ]
  },
  {
   "cell_type": "markdown",
   "metadata": {},
   "source": [
    "## Read Resumes"
   ]
  },
  {
   "cell_type": "code",
   "execution_count": 2,
   "metadata": {},
   "outputs": [],
   "source": [
    "resumes_uri=\"../data/master_data/resumes/v1.0/\"\n",
    "resumes_as_csv=\"../data/processed_data/resumes.csv\""
   ]
  },
  {
   "cell_type": "code",
   "execution_count": 3,
   "metadata": {},
   "outputs": [],
   "source": [
    "def read_pdf(pdf_path:str)->str:\n",
    "    \"\"\"reads pdf and return them as a string\"\"\"\n",
    "    reader=PdfReader(pdf_path)\n",
    "    txt=\"\"\n",
    "    for page in reader.pages:\n",
    "        txt+=\"\\n\"+page.extract_text()        \n",
    "    return txt"
   ]
  },
  {
   "cell_type": "code",
   "execution_count": 4,
   "metadata": {},
   "outputs": [
    {
     "data": {
      "application/vnd.jupyter.widget-view+json": {
       "model_id": "940d979102e743f68ce8647dce546771",
       "version_major": 2,
       "version_minor": 0
      },
      "text/plain": [
       "0it [00:00, ?it/s]"
      ]
     },
     "metadata": {},
     "output_type": "display_data"
    },
    {
     "name": "stdout",
     "output_type": "stream",
     "text": [
      "resume size:  2484\n"
     ]
    }
   ],
   "source": [
    "resumes=[]\n",
    "for (root, dirs, files) in tqdm(os.walk(resumes_uri)):\n",
    "    for f in files:\n",
    "        if \".pdf\" in f:         \n",
    "            resume_domain=os.path.basename(os.path.normpath(root))\n",
    "            resume_id=f.replace(\".pdf\", \"\")\n",
    "            resume_uri=os.path.join(root, f)            \n",
    "            resume=read_pdf(resume_uri)\n",
    "            \n",
    "            resumes.append([resume_id, resume_domain, resume_uri, resume])\n",
    "\n",
    "print(\"resume size: \", len(resumes))"
   ]
  },
  {
   "cell_type": "code",
   "execution_count": 5,
   "metadata": {},
   "outputs": [
    {
     "data": {
      "text/html": [
       "<div>\n",
       "<style scoped>\n",
       "    .dataframe tbody tr th:only-of-type {\n",
       "        vertical-align: middle;\n",
       "    }\n",
       "\n",
       "    .dataframe tbody tr th {\n",
       "        vertical-align: top;\n",
       "    }\n",
       "\n",
       "    .dataframe thead th {\n",
       "        text-align: right;\n",
       "    }\n",
       "</style>\n",
       "<table border=\"1\" class=\"dataframe\">\n",
       "  <thead>\n",
       "    <tr style=\"text-align: right;\">\n",
       "      <th></th>\n",
       "      <th>resume_id</th>\n",
       "      <th>resume_domain</th>\n",
       "      <th>resume_uri</th>\n",
       "      <th>resume</th>\n",
       "    </tr>\n",
       "  </thead>\n",
       "  <tbody>\n",
       "    <tr>\n",
       "      <th>0</th>\n",
       "      <td>10554236</td>\n",
       "      <td>ACCOUNTANT</td>\n",
       "      <td>../data/master_data/resumes/v1.0/ACCOUNTANT/10...</td>\n",
       "      <td>\\nACCOUNTANT\\nSummary\\nFinancial Accountant sp...</td>\n",
       "    </tr>\n",
       "    <tr>\n",
       "      <th>1</th>\n",
       "      <td>10674770</td>\n",
       "      <td>ACCOUNTANT</td>\n",
       "      <td>../data/master_data/resumes/v1.0/ACCOUNTANT/10...</td>\n",
       "      <td>\\nSTAFF ACCOUNTANT\\nSummary\\nHighly analytical...</td>\n",
       "    </tr>\n",
       "    <tr>\n",
       "      <th>2</th>\n",
       "      <td>11163645</td>\n",
       "      <td>ACCOUNTANT</td>\n",
       "      <td>../data/master_data/resumes/v1.0/ACCOUNTANT/11...</td>\n",
       "      <td>\\nACCOUNTANT\\nProfessional Summary\\nTo obtain ...</td>\n",
       "    </tr>\n",
       "    <tr>\n",
       "      <th>3</th>\n",
       "      <td>11759079</td>\n",
       "      <td>ACCOUNTANT</td>\n",
       "      <td>../data/master_data/resumes/v1.0/ACCOUNTANT/11...</td>\n",
       "      <td>\\nSENIOR ACCOUNTANT\\nExperience\\nCompany Name\\...</td>\n",
       "    </tr>\n",
       "    <tr>\n",
       "      <th>4</th>\n",
       "      <td>12065211</td>\n",
       "      <td>ACCOUNTANT</td>\n",
       "      <td>../data/master_data/resumes/v1.0/ACCOUNTANT/12...</td>\n",
       "      <td>\\nSENIOR ACCOUNTANT\\nProfessional Summary\\nSen...</td>\n",
       "    </tr>\n",
       "  </tbody>\n",
       "</table>\n",
       "</div>"
      ],
      "text/plain": [
       "  resume_id resume_domain                                         resume_uri  \\\n",
       "0  10554236    ACCOUNTANT  ../data/master_data/resumes/v1.0/ACCOUNTANT/10...   \n",
       "1  10674770    ACCOUNTANT  ../data/master_data/resumes/v1.0/ACCOUNTANT/10...   \n",
       "2  11163645    ACCOUNTANT  ../data/master_data/resumes/v1.0/ACCOUNTANT/11...   \n",
       "3  11759079    ACCOUNTANT  ../data/master_data/resumes/v1.0/ACCOUNTANT/11...   \n",
       "4  12065211    ACCOUNTANT  ../data/master_data/resumes/v1.0/ACCOUNTANT/12...   \n",
       "\n",
       "                                              resume  \n",
       "0  \\nACCOUNTANT\\nSummary\\nFinancial Accountant sp...  \n",
       "1  \\nSTAFF ACCOUNTANT\\nSummary\\nHighly analytical...  \n",
       "2  \\nACCOUNTANT\\nProfessional Summary\\nTo obtain ...  \n",
       "3  \\nSENIOR ACCOUNTANT\\nExperience\\nCompany Name\\...  \n",
       "4  \\nSENIOR ACCOUNTANT\\nProfessional Summary\\nSen...  "
      ]
     },
     "execution_count": 5,
     "metadata": {},
     "output_type": "execute_result"
    }
   ],
   "source": [
    "df_resumes=pd.DataFrame(resumes, columns=[\"resume_id\", \"resume_domain\", \"resume_uri\", \"resume\"])\n",
    "df_resumes.head()"
   ]
  },
  {
   "cell_type": "code",
   "execution_count": null,
   "metadata": {},
   "outputs": [],
   "source": [
    "df_resumes.to_csv(resumes_as_csv, index=False)"
   ]
  }
 ],
 "metadata": {
  "kernelspec": {
   "display_name": "Python 3",
   "language": "python",
   "name": "python3"
  },
  "language_info": {
   "codemirror_mode": {
    "name": "ipython",
    "version": 3
   },
   "file_extension": ".py",
   "mimetype": "text/x-python",
   "name": "python",
   "nbconvert_exporter": "python",
   "pygments_lexer": "ipython3",
   "version": "3.11.0"
  }
 },
 "nbformat": 4,
 "nbformat_minor": 2
}
